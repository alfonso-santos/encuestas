{
 "cells": [
  {
   "cell_type": "markdown",
   "metadata": {},
   "source": [
    "# EVALUAR Y GENERAR REPORTS PARA LOS ALUMNOS"
   ]
  },
  {
   "cell_type": "markdown",
   "metadata": {},
   "source": [
    "### CONSIDERACIONES PARA QUE FUNCIONE:\n",
    "\n",
    "- HAY QUE INSTALAR LIBREOFFICE EN EL TERMINAL\n",
    "\n",
    "        -  sudo apt update\n",
    "\n",
    "        - sudo apt install libreoffice\n",
    "\n",
    "- EL TEMPLATE DEL REPORT PARA EL PONENTE TIENE QUE ESTAR EN:\n",
    "\n",
    "        - TEMPLATE_PATH = '/workspace/template/Evaluacion_Sesion_template.docx'\n",
    "\n",
    "- FICHERO RESPUESTAS:\n",
    "\n",
    "\n",
    "        - Eliminar las primeras 7 columnas del DataFrame, asumiendo que no son necesarias para el análisis.\n",
    "\n",
    "        - Tiene que tener 8 preguntas numéricas de 0 a 5 y 4 con texto libre\n",
    "\n",
    "        - Las preguntas 11 y 12 son las que hay que usar pare evaluar\n"
   ]
  },
  {
   "cell_type": "code",
   "execution_count": 1,
   "metadata": {},
   "outputs": [
    {
     "name": "stdout",
     "output_type": "stream",
     "text": [
      "Defaulting to user installation because normal site-packages is not writeable\n",
      "Requirement already satisfied: docxtpl in /home/vscode/.local/lib/python3.11/site-packages (0.18.0)\n",
      "Requirement already satisfied: python-docx>=1.1.1 in /home/vscode/.local/lib/python3.11/site-packages (from docxtpl) (1.1.2)\n",
      "Requirement already satisfied: docxcompose in /home/vscode/.local/lib/python3.11/site-packages (from docxtpl) (1.4.0)\n",
      "Requirement already satisfied: jinja2 in /usr/local/lib/python3.11/site-packages (from docxtpl) (3.1.4)\n",
      "Requirement already satisfied: lxml in /usr/local/lib/python3.11/site-packages (from docxtpl) (5.2.2)\n",
      "Requirement already satisfied: typing-extensions>=4.9.0 in /usr/local/lib/python3.11/site-packages (from python-docx>=1.1.1->docxtpl) (4.12.1)\n",
      "Requirement already satisfied: setuptools in /usr/local/lib/python3.11/site-packages (from docxcompose->docxtpl) (68.2.2)\n",
      "Requirement already satisfied: six in /usr/local/lib/python3.11/site-packages (from docxcompose->docxtpl) (1.16.0)\n",
      "Requirement already satisfied: babel in /usr/local/lib/python3.11/site-packages (from docxcompose->docxtpl) (2.15.0)\n",
      "Requirement already satisfied: MarkupSafe>=2.0 in /usr/local/lib/python3.11/site-packages (from jinja2->docxtpl) (2.1.5)\n",
      "\n",
      "\u001b[1m[\u001b[0m\u001b[34;49mnotice\u001b[0m\u001b[1;39;49m]\u001b[0m\u001b[39;49m A new release of pip is available: \u001b[0m\u001b[31;49m24.0\u001b[0m\u001b[39;49m -> \u001b[0m\u001b[32;49m24.2\u001b[0m\n",
      "\u001b[1m[\u001b[0m\u001b[34;49mnotice\u001b[0m\u001b[1;39;49m]\u001b[0m\u001b[39;49m To update, run: \u001b[0m\u001b[32;49mpip install --upgrade pip\u001b[0m\n",
      "Note: you may need to restart the kernel to use updated packages.\n"
     ]
    }
   ],
   "source": [
    "%pip install docxtpl"
   ]
  },
  {
   "cell_type": "code",
   "execution_count": 2,
   "metadata": {},
   "outputs": [
    {
     "name": "stdout",
     "output_type": "stream",
     "text": [
      "Defaulting to user installation because normal site-packages is not writeable\n",
      "Requirement already satisfied: fpdf2 in /home/vscode/.local/lib/python3.11/site-packages (2.7.9)\n",
      "Requirement already satisfied: defusedxml in /usr/local/lib/python3.11/site-packages (from fpdf2) (0.7.1)\n",
      "Requirement already satisfied: Pillow!=9.2.*,>=6.2.2 in /usr/local/lib/python3.11/site-packages (from fpdf2) (10.3.0)\n",
      "Requirement already satisfied: fonttools>=4.34.0 in /usr/local/lib/python3.11/site-packages (from fpdf2) (4.53.0)\n",
      "\n",
      "\u001b[1m[\u001b[0m\u001b[34;49mnotice\u001b[0m\u001b[1;39;49m]\u001b[0m\u001b[39;49m A new release of pip is available: \u001b[0m\u001b[31;49m24.0\u001b[0m\u001b[39;49m -> \u001b[0m\u001b[32;49m24.2\u001b[0m\n",
      "\u001b[1m[\u001b[0m\u001b[34;49mnotice\u001b[0m\u001b[1;39;49m]\u001b[0m\u001b[39;49m To update, run: \u001b[0m\u001b[32;49mpip install --upgrade pip\u001b[0m\n",
      "Note: you may need to restart the kernel to use updated packages.\n"
     ]
    }
   ],
   "source": [
    "%pip install fpdf2"
   ]
  },
  {
   "cell_type": "code",
   "execution_count": 3,
   "metadata": {},
   "outputs": [],
   "source": [
    "import pandas as pd\n",
    "from datetime import datetime\n",
    "from docxtpl import DocxTemplate\n",
    "from docx.enum.text import WD_PARAGRAPH_ALIGNMENT\n",
    "import os\n",
    "import subprocess\n",
    "from email.mime.multipart import MIMEMultipart\n",
    "from email.mime.text import MIMEText\n",
    "from email.mime.application import MIMEApplication\n",
    "import smtplib\n",
    "import concurrent.futures\n",
    "import os\n",
    "from dotenv import load_dotenv\n",
    "from tqdm import tqdm\n",
    "from openai import OpenAI\n",
    "from datetime import datetime, timedelta\n",
    "from fpdf import FPDF\n",
    "from fpdf.enums import XPos, YPos\n"
   ]
  },
  {
   "cell_type": "markdown",
   "metadata": {},
   "source": [
    "## DEFINICIÓN DE LAS FUNCIONES"
   ]
  },
  {
   "cell_type": "code",
   "execution_count": 4,
   "metadata": {},
   "outputs": [],
   "source": [
    "def leer_criterios(CRITERIOS_PATH):\n",
    "    \"\"\"\n",
    "    Lee el archivo de criterios y separa los criterios para Q11_Específica 1 y Q12_Específica 2.\n",
    "    \n",
    "    Parámetros:\n",
    "    - CRITERIOS_PATH: Ruta del archivo de texto que contiene los criterios.\n",
    "\n",
    "    Retorna:\n",
    "    - Una tupla con dos listas: la primera contiene los criterios de Q11 y la segunda los de Q12.\n",
    "\n",
    "    Manejo de errores:\n",
    "    - Verifica si el archivo existe y puede ser leído.\n",
    "    - Verifica que el archivo contenga las secciones esperadas para Q11 y Q12.\n",
    "    \"\"\"\n",
    "\n",
    "    criterios_q11 = []\n",
    "    criterios_q12 = []\n",
    "    leyendo_q11 = False\n",
    "    leyendo_q12 = False\n",
    "\n",
    "    try:\n",
    "        # Intentar abrir el archivo\n",
    "        with open(CRITERIOS_PATH, 'r') as file:\n",
    "            contenido = file.read()\n",
    "\n",
    "        # Procesar el contenido línea por línea\n",
    "        for linea in contenido.splitlines():\n",
    "            if \"Criterios para Q11_Especifica1:\" in linea:\n",
    "                leyendo_q11 = True\n",
    "                leyendo_q12 = False\n",
    "            elif \"Criterios para Q12_Especifica2:\" in linea:\n",
    "                leyendo_q11 = False\n",
    "                leyendo_q12 = True\n",
    "            elif leyendo_q11 and linea.strip():\n",
    "                criterios_q11.append(linea.strip())\n",
    "            elif leyendo_q12 and linea.strip():\n",
    "                criterios_q12.append(linea.strip())\n",
    "        \n",
    "        # Verificar si se encontraron criterios en ambas secciones\n",
    "        if not criterios_q11:\n",
    "            raise ValueError(\"No se encontraron criterios para Q11_Session content review 1 en el archivo.\")\n",
    "        if not criterios_q12:\n",
    "            raise ValueError(\"No se encontraron criterios para Q12_Específica 2 en el archivo.\")\n",
    "\n",
    "        # Imprimir mensaje de éxito con el número de criterios leídos para Q11 y Q12\n",
    "        print(f\"Se leyeron {len(criterios_q11)} criterios para Q11 y {len(criterios_q12)} criterios para Q12 del archivo '{CRITERIOS_PATH}'.\")\n",
    "\n",
    "    except FileNotFoundError:\n",
    "        print(f\"Error: El archivo '{CRITERIOS_PATH}' no se encontró. Verifica la ruta.\")\n",
    "    except IOError:\n",
    "        print(f\"Error: No se pudo leer el archivo '{CRITERIOS_PATH}'. Verifica los permisos.\")\n",
    "    except ValueError as e:\n",
    "        print(f\"Error: {e}\")\n",
    "\n",
    "    return criterios_q11, criterios_q12\n"
   ]
  },
  {
   "cell_type": "code",
   "execution_count": 5,
   "metadata": {},
   "outputs": [],
   "source": [
    "def leer_encuestas(file_path_csv):\n",
    "    \"\"\"\n",
    "    Carga un archivo CSV en un DataFrame, verifica si está vacío y selecciona\n",
    "    columnas específicas para su posterior análisis.\n",
    "\n",
    "    Parámetros:\n",
    "    - file_path_csv: Ruta al archivo CSV que contiene los datos de evaluación.\n",
    "\n",
    "    Retorna:\n",
    "    - df: DataFrame con las columnas seleccionadas ('Nombre completo', 'Nombre de usuario', 'Q11_Específica 1', 'Q12_Específica 2').\n",
    "\n",
    "    Excepciones:\n",
    "    - ValueError: Si el archivo CSV está vacío o no contiene datos válidos.\n",
    "    \"\"\"\n",
    "    \n",
    "    # Verificar si el archivo CSV existe\n",
    "    if not os.path.exists(file_path_csv):\n",
    "        raise FileNotFoundError(f\"El archivo CSV {file_path_csv} no existe.\")\n",
    "    \n",
    "    # Leer los datos del archivo CSV en un DataFrame\n",
    "    try:\n",
    "        df = pd.read_csv(file_path_csv)\n",
    "    except Exception as e:\n",
    "        print(f\"Error al leer el archivo CSV: {e}\")\n",
    "        return None\n",
    "\n",
    "    # Verificar si el DataFrame está vacío\n",
    "    if df.empty:\n",
    "        raise ValueError(\"El archivo CSV está vacío o no contiene datos válidos.\")\n",
    "\n",
    "    # Definir la lista de columnas que queremos seleccionar\n",
    "    columnas_seleccionadas = ['Nombre completo', 'Nombre de usuario', 'Q11_Session content review 1', 'Q12_Session content review 2']\n",
    "\n",
    "    # Verificar si las columnas están presentes\n",
    "    columnas_disponibles = all(col in df.columns for col in columnas_seleccionadas)\n",
    "    if not columnas_disponibles:\n",
    "        raise ValueError(f\"El archivo CSV no contiene las columnas necesarias: {columnas_seleccionadas}\")\n",
    "\n",
    "    # Seleccionar las columnas específicas del DataFrame\n",
    "    df = df[columnas_seleccionadas]\n",
    "\n",
    "    # Verificar filas procesadas correctamente\n",
    "    filas_procesadas = df.shape[0]\n",
    "    \n",
    "    # Imprimir mensaje de éxito con el número de filas leídas\n",
    "    print(f\"Se han leído con éxito {filas_procesadas} registros del archivo CSV.\")\n",
    "\n",
    "    # Retornar el DataFrame filtrado\n",
    "    return df\n"
   ]
  },
  {
   "cell_type": "code",
   "execution_count": 6,
   "metadata": {},
   "outputs": [],
   "source": [
    "def evaluar_respuesta_gpt(respuesta, criterios, pregunta_1, pregunta_2):\n",
    "    \"\"\"\n",
    "    Utiliza la API de OpenAI para evaluar la respuesta del estudiante basándose en los criterios.\n",
    "    \n",
    "    Parámetros:\n",
    "    - respuesta: Respuesta del estudiante.\n",
    "    - criterios: Criterios correspondientes para evaluar la respuesta.\n",
    "    - pregunta_1: La primera pregunta para verificar si la respuesta es solo una reformulación.\n",
    "    - pregunta_2: La segunda pregunta para verificar si la respuesta es solo una reformulación.\n",
    "\n",
    "    Retorna una nota y una explicación de la evaluación.\n",
    "    \"\"\"\n",
    "\n",
    "    # Crear el prompt con la respuesta, las preguntas y los criterios, especificando un formato estructurado\n",
    "    prompt = f\"\"\"\n",
    "        Evaluate the following answer against these criteria, considering that the answer can be in English or Spanish:\n",
    "\n",
    "        Criteria:\n",
    "        {criterios}\n",
    "\n",
    "        Student response:\n",
    "        {respuesta}\n",
    "\n",
    "        Questions:\n",
    "        - {pregunta_1}\n",
    "        - {pregunta_2}\n",
    "\n",
    "        Important:\n",
    "        - If the answer is only a repetition or rephrasing of any of the questions, the mark should be 0.\n",
    "        - Assess the accuracy, coherence, relevance and clarity of the answer, regardless of whether it is written in English or Spanish.\n",
    "        - Do not penalise minor spelling or grammatical errors, unless they affect the understanding of the concept.\n",
    "        - Consider the student's ability to be concise but thorough. The answer should cover the key points without rambling.\n",
    "        - If the content is confusing, incomplete or unrelated to the criteria, apply penalties accordingly.\n",
    "        - If the answer is not related to the questions or criteria, the mark should be 0.\n",
    "\n",
    "        Provide the assessment in the following EXACT format:\n",
    "        Nota: <numeric value between 1 and 10 to one decimal place, or 0 if the answer is a rephrasing of the question>\n",
    "        Comentario: <detailed explanation in English of the evaluation, indicating strengths, areas for improvement and any conceptual errors>\n",
    "    \"\"\"\n",
    "\n",
    "\n",
    "    try:\n",
    "        # Inicializar cliente OpenAI\n",
    "        cliente = OpenAI()\n",
    "\n",
    "        # Crear la solicitud de completado del chat\n",
    "        response = cliente.chat.completions.create(\n",
    "            model=\"gpt-4o-mini\",\n",
    "            messages=[\n",
    "                {\"role\": \"system\", \"content\": \"Eres un evaluador que analiza respuestas breves de estudiantes basadas en criterios específicos.\"},\n",
    "                {\"role\": \"user\", \"content\": prompt}\n",
    "            ]\n",
    "        )\n",
    "\n",
    "        # Obtener la respuesta generada por el modelo\n",
    "        evaluacion = response.choices[0].message.content\n",
    "\n",
    "        # Procesar la evaluación para extraer la nota y el comentario\n",
    "        try:\n",
    "            # Dividir la evaluación en líneas y buscar la nota y el comentario\n",
    "            lines = evaluacion.split(\"\\n\")\n",
    "\n",
    "            # Buscar la línea que contiene la nota y procesarla\n",
    "            nota_line = next(line for line in lines if line.startswith(\"Nota:\"))\n",
    "            nota = nota_line.split(\":\")[1].strip()  # Extraer la nota después de 'Nota:'\n",
    "\n",
    "            # Buscar la línea que contiene el comentario\n",
    "            comentario_line = next(line for line in lines if line.startswith(\"Comentario:\"))\n",
    "            comentario = comentario_line.split(\":\", 1)[1].strip()  # Extraer el comentario después de 'Comentario:'\n",
    "\n",
    "        except Exception as e:\n",
    "            print(f\"Error al procesar la evaluación: {e}\")\n",
    "            return None, \"Error al procesar la evaluación.\"\n",
    "\n",
    "        return nota, comentario\n",
    "\n",
    "    except Exception as e:\n",
    "        print(f\"Error al evaluar la respuesta: {e}\")\n",
    "        return None, \"Error en la evaluación.\"\n",
    "\n"
   ]
  },
  {
   "cell_type": "code",
   "execution_count": 7,
   "metadata": {},
   "outputs": [],
   "source": [
    "\n",
    "def procesar_respuesta(index, row, criterios_q11, criterios_q12):\n",
    "    \"\"\"\n",
    "    Procesa las respuestas de una fila del DataFrame.\n",
    "    Evalúa las respuestas de Q11 y Q12 y retorna los resultados.\n",
    "    \"\"\"\n",
    "    # Obtener las respuestas para Q11 y Q12 de las columnas correspondientes\n",
    "    respuesta_q11 = row['Q11_Session content review 1']\n",
    "    respuesta_q12 = row['Q12_Session content review 2']\n",
    "\n",
    "    # Evaluar la respuesta a Q11\n",
    "    nota_q11, comentario_q11 = evaluar_respuesta_gpt(respuesta_q11, \"\\n\".join(criterios_q11), PREGUNTA_1, PREGUNTA_2)\n",
    "    \n",
    "    # Evaluar la respuesta a Q12\n",
    "    nota_q12, comentario_q12 = evaluar_respuesta_gpt(respuesta_q12, \"\\n\".join(criterios_q12), PREGUNTA_1, PREGUNTA_2)\n",
    "\n",
    "    return index, nota_q11, comentario_q11, nota_q12, comentario_q12"
   ]
  },
  {
   "cell_type": "code",
   "execution_count": 8,
   "metadata": {},
   "outputs": [],
   "source": [
    "def evaluar_respuestas_df_paralelo(df, criterios_q11, criterios_q12):\n",
    "    \"\"\"\n",
    "    Recorre el DataFrame df en paralelo, evalúa las respuestas de Q11 y Q12 \n",
    "    usando la función evaluar_respuesta_gpt, y crea nuevas columnas para almacenar \n",
    "    las notas y los comentarios para cada respuesta.\n",
    "    \"\"\"\n",
    "    \n",
    "    # Inicializar las nuevas columnas en el DataFrame\n",
    "    df['Nota Q11'] = None\n",
    "    df['Comentario Q11'] = None\n",
    "    df['Nota Q12'] = None\n",
    "    df['Comentario Q12'] = None\n",
    "\n",
    "    filas_procesadas = 0  # Contador de filas procesadas correctamente\n",
    "\n",
    "    # Usar ThreadPoolExecutor para ejecutar en paralelo\n",
    "    with concurrent.futures.ThreadPoolExecutor() as executor:\n",
    "        # Enviar todas las filas al pool de threads para procesamiento\n",
    "        futuros = {\n",
    "            executor.submit(procesar_respuesta, index, row, criterios_q11, criterios_q12): index\n",
    "            for index, row in df.iterrows()\n",
    "        }\n",
    "\n",
    "        # Recoger los resultados conforme se completan\n",
    "        for future in concurrent.futures.as_completed(futuros):\n",
    "            try:\n",
    "                index, nota_q11, comentario_q11, nota_q12, comentario_q12 = future.result()\n",
    "\n",
    "                # Guardar los resultados en las nuevas columnas del DataFrame\n",
    "                df.at[index, 'Nota Q11'] = nota_q11\n",
    "                df.at[index, 'Comentario Q11'] = comentario_q11\n",
    "                df.at[index, 'Nota Q12'] = nota_q12\n",
    "                df.at[index, 'Comentario Q12'] = comentario_q12\n",
    "\n",
    "                filas_procesadas += 1  # Incrementar el contador de filas procesadas correctamente\n",
    "            except Exception as e:\n",
    "                print(f\"Error al procesar la fila {index}: {e}\")\n",
    "\n",
    "    # Convertir las columnas Nota Q11 y Nota Q12 a float de forma segura\n",
    "    df['Nota Q11'] = pd.to_numeric(df['Nota Q11'], errors='coerce')\n",
    "    df['Nota Q12'] = pd.to_numeric(df['Nota Q12'], errors='coerce')\n",
    "\n",
    "    # Calcular la nota final como la media de Nota Q11 y Nota Q12\n",
    "    df['Nota Final'] = (df['Nota Q11'] + df['Nota Q12']) / 2\n",
    "\n",
    "    # Imprimir mensaje de éxito con el número de filas procesadas correctamente\n",
    "    print(f\"Proceso de evaluación finalizado con éxito. Se evaluaron correctamente {filas_procesadas} de {df.shape[0]} respuestas.\")\n",
    "\n",
    "    return df\n"
   ]
  },
  {
   "cell_type": "code",
   "execution_count": 9,
   "metadata": {},
   "outputs": [],
   "source": [
    "def generar_excel_y_pdf(df_resultado, nombre_sesion):\n",
    "    \"\"\"\n",
    "    Genera un archivo Excel y un archivo PDF con las notas de los alumnos, y los guarda en el directorio de la sesión.\n",
    "    El PDF no incluye la columna de emails.\n",
    "    \"\"\"\n",
    "    # Ruta de salida\n",
    "    output_dir = f\"/workspace/reports/{nombre_sesion}\"\n",
    "    if not os.path.exists(output_dir):\n",
    "        os.makedirs(output_dir)\n",
    "\n",
    "    # Generar archivo Excel\n",
    "    excel_path = os.path.join(output_dir, f\"notas_{nombre_sesion}.xlsx\")\n",
    "    df_resultado[['Nombre completo', 'Nombre de usuario', 'Nota Q11', 'Nota Q12', 'Nota Final']].to_excel(excel_path, index=False)\n",
    "\n",
    "    # Generar archivo PDF\n",
    "    pdf = FPDF()\n",
    "    pdf.add_page()\n",
    "\n",
    "    # Configurar fuente y título del PDF\n",
    "    pdf.set_font(\"Helvetica\", 'B', 16)\n",
    "    pdf.cell(200, 10, f\"Notas de la sesión: {nombre_sesion}\", new_x=XPos.LMARGIN, new_y=YPos.NEXT, align='C')\n",
    "\n",
    "    # Espaciado\n",
    "    pdf.ln(10)\n",
    "\n",
    "    # Títulos de las columnas (sin email)\n",
    "    pdf.set_font(\"Helvetica\", 'B', 12)\n",
    "    pdf.cell(100, 10, \"Nombre del Alumno\", border=1)\n",
    "    pdf.cell(30, 10, \"Nota Q11\", border=1)\n",
    "    pdf.cell(30, 10, \"Nota Q12\", border=1)\n",
    "    pdf.cell(30, 10, \"Nota Final\", border=1)\n",
    "    pdf.ln()\n",
    "\n",
    "    # Datos de los alumnos (sin email)\n",
    "    pdf.set_font(\"Helvetica\", '', 12)\n",
    "    for index, row in df_resultado.iterrows():\n",
    "        pdf.cell(100, 10, row['Nombre completo'], border=1)\n",
    "        pdf.cell(30, 10, str(row['Nota Q11']), border=1)\n",
    "        pdf.cell(30, 10, str(row['Nota Q12']), border=1)\n",
    "        pdf.cell(30, 10, str(row['Nota Final']), border=1)\n",
    "        pdf.ln()\n",
    "\n",
    "    # Guardar el PDF\n",
    "    pdf_path = os.path.join(output_dir, f\"notas_{nombre_sesion}.pdf\")\n",
    "    pdf.output(pdf_path)\n",
    "\n",
    "    print(f\"Archivos generados: {excel_path}, {pdf_path}\")\n",
    "\n"
   ]
  },
  {
   "cell_type": "code",
   "execution_count": 10,
   "metadata": {},
   "outputs": [],
   "source": [
    "def generar_informes(df_resultado, nombre_sesion, criterios_q11, criterios_q12):\n",
    "    \"\"\"\n",
    "    Genera informes personalizados en formato Word para cada alumno en función de los resultados\n",
    "    del DataFrame, los convierte a PDF, añade una nueva columna con la ruta al archivo PDF generado\n",
    "    y agrega los criterios de evaluación formateados en el contexto.\n",
    "\n",
    "    Parámetros:\n",
    "    - df_resultado: DataFrame que contiene los resultados y comentarios de los alumnos.\n",
    "    - nombre_sesion: Nombre de la sesión o curso, utilizado para nombrar el directorio y los archivos.\n",
    "    - criterios_q11: Lista de criterios para la pregunta Q11.\n",
    "    - criterios_q12: Lista de criterios para la pregunta Q12.\n",
    "\n",
    "    Retorna:\n",
    "    - df_resultado: DataFrame actualizado con una nueva columna que contiene la ruta a los archivos PDF generados.\n",
    "    \"\"\"\n",
    "\n",
    "    # Crear el directorio de salida si no existe\n",
    "    output_dir = f'/workspace/reports/{nombre_sesion}/alumnos'\n",
    "    if not os.path.exists(output_dir):\n",
    "        os.makedirs(output_dir)  # Crear el directorio si no existe\n",
    "\n",
    "    informes_generados = 0  # Contador de informes generados\n",
    "\n",
    "    # Crear una columna vacía en el DataFrame para almacenar las rutas de los PDFs\n",
    "    df_resultado['Ruta PDF'] = None\n",
    "\n",
    "    # Formatear los criterios para que se vean claramente en el documento\n",
    "    criterios_q11_formateados = \"\\n\".join([f\"{linea}\" if linea.startswith('1.') or linea.startswith('2.') or linea.startswith('3.') else f\"    {linea}\" for linea in criterios_q11])\n",
    "    criterios_q12_formateados = \"\\n\".join([f\"{linea}\" if linea.startswith('1.') or linea.startswith('2.') or linea.startswith('3.') else f\"    {linea}\" for linea in criterios_q12])\n",
    "\n",
    "    # Iterar sobre cada fila del DataFrame para generar un informe por alumno usando tqdm para la barra de progreso\n",
    "    for index, row in tqdm(df_resultado.iterrows(), total=len(df_resultado), desc=\"Generando informes\", unit=\"informe\"):\n",
    "        try:\n",
    "            # Cargar la plantilla de Word donde se insertarán los datos del alumno\n",
    "            doc = DocxTemplate(TEMPLATE_PATH_ALUMNO)\n",
    "        except FileNotFoundError:\n",
    "            # Manejar el error si la plantilla no se encuentra\n",
    "            print(f\"Error: No se encontró la plantilla en la ruta especificada: {TEMPLATE_PATH_ALUMNO}\")\n",
    "            continue  # Saltar al siguiente alumno si no se encuentra la plantilla\n",
    "\n",
    "        # Preparar el contexto con la información del alumno que se insertará en el informe\n",
    "        context = {\n",
    "            'nombre_alumno': row['Nombre completo'],\n",
    "            'titulo_sesion': nombre_sesion,\n",
    "            'pregunta_1': PREGUNTA_1,\n",
    "            'respuesta_q11': row['Q11_Session content review 1'],\n",
    "            'nota_q11': row['Nota Q11'],\n",
    "            'comentario_q11': row['Comentario Q11'],\n",
    "            'criterios_q11': criterios_q11_formateados,  # Incluir criterios formateados para Q11\n",
    "            'pregunta_2': PREGUNTA_2,\n",
    "            'respuesta_q12': row['Q12_Session content review 2'],\n",
    "            'nota_q12': row['Nota Q12'],\n",
    "            'comentario_q12': row['Comentario Q12'],\n",
    "            'criterios_q12': criterios_q12_formateados,  # Incluir criterios formateados para Q12\n",
    "            'nota_final': row['Nota Final']\n",
    "        }\n",
    "\n",
    "        # Intentar renderizar el documento con el contexto preparado\n",
    "        try:\n",
    "            doc.render(context)\n",
    "        except Exception as e:\n",
    "            # Manejar el error si hay problemas al renderizar el informe\n",
    "            print(f\"Error al renderizar el informe para {row['Nombre completo']}: {e}\")\n",
    "            continue  # Saltar al siguiente alumno si falla la renderización\n",
    "\n",
    "        # Definir la ruta del archivo .docx de salida para el informe del alumno\n",
    "        output_file = os.path.join(output_dir, f'{row[\"Nombre completo\"].replace(\" \", \"_\")}_{nombre_sesion}.docx')\n",
    "\n",
    "        # Guardar el informe generado en formato Word\n",
    "        try:\n",
    "            doc.save(output_file)\n",
    "        except OSError as e:\n",
    "            # Manejar el error si no se puede guardar el archivo\n",
    "            print(f\"Error al guardar el informe para {row['Nombre completo']}: {e}\")\n",
    "            continue  # Saltar al siguiente alumno si falla al guardar\n",
    "\n",
    "        # Convertir el archivo Word a PDF usando LibreOffice\n",
    "        try:\n",
    "            convert_to_pdf_with_libreoffice(output_file, output_dir)\n",
    "            pdf_file = output_file.replace('.docx', '.pdf')  # Generar la ruta del archivo PDF\n",
    "\n",
    "            # Añadir la ruta del PDF generado en la columna correspondiente del DataFrame\n",
    "            df_resultado.at[index, 'Ruta PDF'] = pdf_file\n",
    "            informes_generados += 1  # Incrementar el contador de informes generados\n",
    "        except Exception as e:\n",
    "            # Manejar el error si falla la conversión a PDF\n",
    "            print(f\"Error al convertir {output_file} a PDF: {e}\")\n",
    "\n",
    "    # Imprimir un mensaje al finalizar el proceso\n",
    "    print(f\"Proceso finalizado. Se generaron {informes_generados} informes.\")\n",
    "    \n",
    "    # Retornar el DataFrame actualizado con las rutas a los archivos PDF generados\n",
    "    return df_resultado\n"
   ]
  },
  {
   "cell_type": "code",
   "execution_count": 11,
   "metadata": {},
   "outputs": [],
   "source": [
    "def convert_to_pdf_with_libreoffice(docx_path, output_dir):\n",
    "    \"\"\"Convierte un archivo .docx a PDF usando LibreOffice en modo de línea de comandos, solo muestra errores\"\"\"\n",
    "    try:\n",
    "        # Ejecutar el comando libreoffice para convertir el archivo a PDF sin mostrar los mensajes de éxito\n",
    "        subprocess.run(\n",
    "            ['libreoffice', '--headless', '--convert-to', 'pdf', docx_path, '--outdir', output_dir],\n",
    "            check=True,\n",
    "            stdout=subprocess.DEVNULL,  # Silenciar la salida estándar\n",
    "            stderr=subprocess.PIPE  # Capturar errores estándar\n",
    "        )\n",
    "    except subprocess.CalledProcessError as e:\n",
    "        print(f\"Error al convertir el archivo .docx a PDF: {docx_path}\\nDetalle del error: {e.stderr.decode()}\")\n",
    "\n"
   ]
  },
  {
   "cell_type": "code",
   "execution_count": 12,
   "metadata": {},
   "outputs": [],
   "source": [
    "def convertir_todos_los_docx_a_pdf(dir_reports):\n",
    "    \"\"\"Lee todos los archivos .docx en un directorio y los convierte a PDF secuencialmente, mostrando barra de progreso\"\"\"\n",
    "    # Obtener todos los archivos .docx en el directorio\n",
    "    docx_files = [os.path.join(dir_reports, file_name) for file_name in os.listdir(dir_reports) if file_name.endswith('.docx')]\n",
    "    \n",
    "    total_files = len(docx_files)  # Total de archivos .docx\n",
    "    pdf_generated = 0  # Contador de PDFs generados correctamente\n",
    "\n",
    "    # Mostrar barra de progreso usando tqdm\n",
    "    for docx_path in tqdm(docx_files, desc=\"Convirtiendo archivos .docx a PDF\"):\n",
    "        try:\n",
    "            convert_to_pdf_with_libreoffice(docx_path, dir_reports)\n",
    "            pdf_generated += 1  # Incrementar el contador si se genera un PDF\n",
    "        except Exception as e:\n",
    "            print(f\"Error durante la conversión de {docx_path}: {e}\")\n",
    "\n",
    "    # Imprimir un mensaje al finalizar con el número de archivos procesados\n",
    "    print(f\"La conversión de todos los archivos ha finalizado. Archivos .docx: {total_files}, Archivos PDF generados: {pdf_generated}\")"
   ]
  },
  {
   "cell_type": "code",
   "execution_count": 13,
   "metadata": {},
   "outputs": [],
   "source": [
    "def enviar_correo_con_adjunto(emails, nombre_sesion, pdf_path, nombre_alumno):\n",
    "    \"\"\"Envía un correo electrónico con el archivo PDF adjunto\"\"\"\n",
    "\n",
    "    # Configurar el servidor SMTP (por ejemplo, Gmail)\n",
    "    smtp_server = 'smtp.gmail.com'\n",
    "    smtp_port = 587\n",
    "    smtp_user = os.getenv('SMTP_USER')  # Cargar desde .env\n",
    "    smtp_password = os.getenv('SMTP_PASSWORD')  # Cargar desde .env\n",
    "\n",
    "    # Calcular la fecha dos días a partir de hoy\n",
    "    fecha_hoy_mas_dos = (datetime.today() + timedelta(days=2)).strftime('%Y-%m-%d')\n",
    "\n",
    "    # Crear el mensaje\n",
    "    asunto = f\"Evaluation Report - Session {nombre_sesion}\"\n",
    "    mensaje = f\"\"\"Dear {nombre_alumno},\n",
    "\n",
    "Attached you will find the report corresponding to the evaluation of the survey for the session \"{nombre_sesion}\". In the report, you will find the grade received, the criteria used for evaluation, as well as detailed comments on your responses.\n",
    "\n",
    "If you believe the assigned grade does not accurately reflect your performance according to the provided criteria, you have the option to request a review. To do so, please send me an email to alfonso.santos@uam.es with the subject \"Request for Evaluation Review - Session {nombre_sesion}\" before 11:59 PM on {fecha_hoy_mas_dos}. In the email, you must clearly explain why the assigned grade is incorrect based on the evaluation criteria.\n",
    "\n",
    "Please note that the review request must be based on a disagreement with the evaluation according to the provided criteria. The evaluation criteria cannot be changed, but the assigned grade is subject to review. Additionally, be aware that the review may result in either an improvement or a reduction in the grade.\n",
    "\n",
    "I remain at your disposal for any further clarifications.\n",
    "\n",
    "Sincerely,\n",
    "Alfonso Santos\n",
    "    \"\"\"\n",
    "\n",
    "    # Crear el objeto MIME para el mensaje\n",
    "    msg = MIMEMultipart()\n",
    "    msg['From'] = smtp_user\n",
    "    msg['To'] = ', '.join(emails) if isinstance(emails, list) else emails\n",
    "    msg['Subject'] = asunto\n",
    "\n",
    "    # Adjuntar el texto del mensaje\n",
    "    msg.attach(MIMEText(mensaje, 'plain'))\n",
    "\n",
    "    # Adjuntar el archivo PDF\n",
    "    try:\n",
    "        with open(pdf_path, 'rb') as f:\n",
    "            part = MIMEApplication(f.read(), _subtype='pdf')\n",
    "            part.add_header('Content-Disposition', 'attachment', filename=os.path.basename(pdf_path))\n",
    "            msg.attach(part)\n",
    "    except FileNotFoundError:\n",
    "        print(f\"Error: No se encontró el archivo PDF en la ruta: {pdf_path}\")\n",
    "        return\n",
    "\n",
    "    # Enviar el correo\n",
    "    try:\n",
    "        with smtplib.SMTP(smtp_server, smtp_port) as server:\n",
    "            server.starttls()  # Seguridad TLS\n",
    "            server.login(smtp_user, smtp_password)\n",
    "            server.sendmail(smtp_user, emails if isinstance(emails, list) else [emails], msg.as_string())\n",
    "            print(f\"Correo enviado con éxito a {emails}\")\n",
    "    except Exception as e:\n",
    "        print(f\"Error al enviar el correo: {e}\")"
   ]
  },
  {
   "cell_type": "code",
   "execution_count": 14,
   "metadata": {},
   "outputs": [],
   "source": [
    "def enviar_informes_por_correo(df_resultado, nombre_sesion):\n",
    "    \"\"\"\n",
    "    Envía un correo electrónico a cada alumno con su archivo PDF adjunto.\n",
    "    \"\"\"\n",
    "    emails_enviados = 0  # Contador para los correos enviados con éxito\n",
    "\n",
    "    # Iterar sobre cada fila del DataFrame usando tqdm para la barra de progreso\n",
    "    for index, row in tqdm(df_resultado.iterrows(), total=len(df_resultado), desc=\"Enviando correos\", unit=\"correo\"):\n",
    "        try:\n",
    "            nombre_alumno = row['Nombre completo']\n",
    "            email_alumno = row['Nombre de usuario']  # Aquí obtenemos el correo de la columna 'Nombre de usuario'\n",
    "\n",
    "            # Verificar que el PDF correspondiente existe\n",
    "            pdf_path = row['Ruta PDF']\n",
    "            if pdf_path:\n",
    "                # Enviar el correo con el archivo PDF adjunto\n",
    "                enviar_correo_con_adjunto(email_alumno, nombre_sesion, pdf_path, nombre_alumno)\n",
    "                emails_enviados += 1  # Incrementar el contador de correos enviados con éxito\n",
    "            else:\n",
    "                print(f\"Error: No se encontró el PDF para {nombre_alumno}. No se enviará un correo.\")\n",
    "        \n",
    "        except Exception as e:\n",
    "            # Imprimir el error exacto que ocurre dentro del bloque try\n",
    "            print(f\"Error al enviar el correo a {email_alumno} para {nombre_alumno}: {e}\")\n",
    "\n",
    "    # Imprimir el número de correos enviados con éxito al finalizar\n",
    "    print(f\"Proceso finalizado. Se enviaron {emails_enviados} correos con éxito.\") \n"
   ]
  },
  {
   "cell_type": "markdown",
   "metadata": {},
   "source": [
    "## CÓDIGO EJECUCIÓN"
   ]
  },
  {
   "cell_type": "markdown",
   "metadata": {},
   "source": [
    "ASIGNACIÓN DE VALORES PARA EJECUCIÓN. **MODIFICAR PARA CADA ENCUESTA**"
   ]
  },
  {
   "cell_type": "code",
   "execution_count": 15,
   "metadata": {},
   "outputs": [],
   "source": [
    "# Constante para la ruta de la plantilla\n",
    "TEMPLATE_PATH_ALUMNO = '/workspace/template/Evaluacion_Alumno_Template.docx'\n",
    "\n",
    "# Ruta al archivo de criterios\n",
    "CRITERIOS_PATH = '/workspace/src/criterios.txt'\n",
    "\n",
    "# Ruta a los archivos de reports\n",
    "DIR_REPORTS = '/workspace/reports'\n",
    "\n",
    "# Datos de la sesión\n",
    "NOMBRE_SESION = 'FinTech'\n",
    "PREGUNTA_1 = 'What is a FinTech? Define the term and name at least three different types of fintech, describing each one in a sentence.'\n",
    "PREGUNTA_2 = 'What have been the main contributions of FinTech companies to the financial sector? Mention at least three key contributions.'\n",
    "\n",
    "# Ficherocon las respuestas de los alumnos\n",
    "file_path_csv = \"/workspace/data/FINTECH_SESSION_SURVEY.csv\"\n"
   ]
  },
  {
   "cell_type": "markdown",
   "metadata": {},
   "source": [
    "CARGO LAS CLAVES"
   ]
  },
  {
   "cell_type": "code",
   "execution_count": 16,
   "metadata": {},
   "outputs": [
    {
     "name": "stdout",
     "output_type": "stream",
     "text": [
      "API key cargada correctamente.\n"
     ]
    }
   ],
   "source": [
    "# Cargar las variables de entorno desde el archivo .env\n",
    "load_dotenv()\n",
    "\n",
    "# Obtener la clave de API\n",
    "openai_api_key = os.getenv(\"OPENAI_API_KEY\")\n",
    "\n",
    "# Verificar que se haya cargado correctamente\n",
    "if openai_api_key:\n",
    "    print(\"API key cargada correctamente.\")\n",
    "else:\n",
    "    print(\"Error: No se pudo cargar la API key.\")"
   ]
  },
  {
   "cell_type": "markdown",
   "metadata": {},
   "source": [
    "EVALÚA LAS ENCUESTAS, GENERA LOS REPORTS (Word y Pdf)"
   ]
  },
  {
   "cell_type": "code",
   "execution_count": 19,
   "metadata": {},
   "outputs": [
    {
     "name": "stdout",
     "output_type": "stream",
     "text": [
      "Se leyeron 24 criterios para Q11 y 12 criterios para Q12 del archivo '/workspace/src/criterios.txt'.\n",
      "Se han leído con éxito 38 registros del archivo CSV.\n",
      "Proceso de evaluación finalizado con éxito. Se evaluaron correctamente 38 de 38 respuestas.\n",
      "Archivos generados: /workspace/reports/FinTech/notas_FinTech.xlsx, /workspace/reports/FinTech/notas_FinTech.pdf\n"
     ]
    },
    {
     "name": "stderr",
     "output_type": "stream",
     "text": [
      "Generando informes: 100%|██████████| 38/38 [00:30<00:00,  1.24informe/s]"
     ]
    },
    {
     "name": "stdout",
     "output_type": "stream",
     "text": [
      "Proceso finalizado. Se generaron 38 informes.\n"
     ]
    },
    {
     "name": "stderr",
     "output_type": "stream",
     "text": [
      "\n"
     ]
    }
   ],
   "source": [
    "# Leer los criterios de evaluación\n",
    "criterios_q11, criterios_q12 = leer_criterios(CRITERIOS_PATH)\n",
    "\n",
    "# Leer las respuestas de los alumnos\n",
    "df_encuestas = leer_encuestas(file_path_csv)\n",
    "\n",
    "# Evaluar las respuestas en paralelo\n",
    "df_resultado = evaluar_respuestas_df_paralelo(df_encuestas, criterios_q11, criterios_q12)\n",
    "\n",
    "# Genera el PDF con las notas para subir a moodle y el excell para tener un respaldo\n",
    "generar_excel_y_pdf(df_resultado, NOMBRE_SESION)\n",
    "\n",
    "# Generar informes personalizados en formato Word y añadir la ruta del PDF en una nueva columna del DataFrame\n",
    "df_resultado = generar_informes(df_resultado, NOMBRE_SESION, criterios_q11, criterios_q12)"
   ]
  },
  {
   "cell_type": "markdown",
   "metadata": {},
   "source": [
    "Chequeo si para algún alumno no se ha generado el informe"
   ]
  },
  {
   "cell_type": "code",
   "execution_count": 18,
   "metadata": {},
   "outputs": [
    {
     "name": "stdout",
     "output_type": "stream",
     "text": [
      "Todos los alumnos tienen informe generado.\n"
     ]
    }
   ],
   "source": [
    "# Verificar si hay algún alumno que no tiene PDF generado (columna 'Ruta PDF' vacía o nula)\n",
    "alumnos_sin_informe = df_resultado[df_resultado['Ruta PDF'].isnull()]\n",
    "\n",
    "# Si existen alumnos sin informe, se muestra la lista\n",
    "if not alumnos_sin_informe.empty:\n",
    "    print(\"Alumnos que no tienen informe generado:\")\n",
    "    print(alumnos_sin_informe[['Nombre completo']])\n",
    "else:\n",
    "    print(\"Todos los alumnos tienen informe generado.\")"
   ]
  },
  {
   "cell_type": "markdown",
   "metadata": {},
   "source": [
    "**POR SI QUIERES HACER PRUEBAS DE ENVIAR EMAILS**"
   ]
  },
  {
   "cell_type": "code",
   "execution_count": 46,
   "metadata": {},
   "outputs": [],
   "source": [
    "# df_resultado.loc[:, 'Nombre de usuario'] = 'alfonso.santos@uam.es'\n",
    "# df_resultado = df_resultado.iloc[:3, :]\n",
    "# df_resultado"
   ]
  },
  {
   "cell_type": "markdown",
   "metadata": {},
   "source": [
    " MANDA EMAILS CON LOS PDF  **OJO DESCOMENTAR LA LÍNEA DE CÓDIGO**"
   ]
  },
  {
   "cell_type": "code",
   "execution_count": 20,
   "metadata": {},
   "outputs": [
    {
     "data": {
      "text/html": [
       "<div>\n",
       "<style scoped>\n",
       "    .dataframe tbody tr th:only-of-type {\n",
       "        vertical-align: middle;\n",
       "    }\n",
       "\n",
       "    .dataframe tbody tr th {\n",
       "        vertical-align: top;\n",
       "    }\n",
       "\n",
       "    .dataframe thead th {\n",
       "        text-align: right;\n",
       "    }\n",
       "</style>\n",
       "<table border=\"1\" class=\"dataframe\">\n",
       "  <thead>\n",
       "    <tr style=\"text-align: right;\">\n",
       "      <th></th>\n",
       "      <th>Nombre completo</th>\n",
       "      <th>Nombre de usuario</th>\n",
       "      <th>Q11_Session content review 1</th>\n",
       "      <th>Q12_Session content review 2</th>\n",
       "      <th>Nota Q11</th>\n",
       "      <th>Comentario Q11</th>\n",
       "      <th>Nota Q12</th>\n",
       "      <th>Comentario Q12</th>\n",
       "      <th>Nota Final</th>\n",
       "      <th>Ruta PDF</th>\n",
       "    </tr>\n",
       "  </thead>\n",
       "  <tbody>\n",
       "    <tr>\n",
       "      <th>0</th>\n",
       "      <td>Marcos Dominguez Valdes</td>\n",
       "      <td>marcos.dominguezv@estudiante.uam.es</td>\n",
       "      <td>Una fintech es una empresa que utiliza la tecn...</td>\n",
       "      <td>La principal contribucion de las fintech al se...</td>\n",
       "      <td>4.5</td>\n",
       "      <td>The student's definition of FinTech includes t...</td>\n",
       "      <td>0.0</td>\n",
       "      <td>The student's response does not adequately add...</td>\n",
       "      <td>2.25</td>\n",
       "      <td>/workspace/reports/FinTech/alumnos/Marcos_Domi...</td>\n",
       "    </tr>\n",
       "    <tr>\n",
       "      <th>1</th>\n",
       "      <td>Roberto García De Cabo</td>\n",
       "      <td>roberto.garciadecabo@estudiante.uam.es</td>\n",
       "      <td>Una FinTech es una empresa cuya base es la tec...</td>\n",
       "      <td>ayudar a cumplir los objetivos de las empresas</td>\n",
       "      <td>3.0</td>\n",
       "      <td>The definition of FinTech contains a few key e...</td>\n",
       "      <td>0.0</td>\n",
       "      <td>The student's response does not address any of...</td>\n",
       "      <td>1.50</td>\n",
       "      <td>/workspace/reports/FinTech/alumnos/Roberto_Gar...</td>\n",
       "    </tr>\n",
       "    <tr>\n",
       "      <th>2</th>\n",
       "      <td>Daniel Zubillaga Fernández</td>\n",
       "      <td>daniel.zubillaga@estudiante.uam.es</td>\n",
       "      <td>Se trata de una empresa que es tecnológica y s...</td>\n",
       "      <td>Una de ellas podrías ser cuando Microsoft Exce...</td>\n",
       "      <td>4.0</td>\n",
       "      <td>The student's response lacks a clear and compl...</td>\n",
       "      <td>0.0</td>\n",
       "      <td>The student's response does not address the qu...</td>\n",
       "      <td>2.00</td>\n",
       "      <td>/workspace/reports/FinTech/alumnos/Daniel_Zubi...</td>\n",
       "    </tr>\n",
       "    <tr>\n",
       "      <th>3</th>\n",
       "      <td>Mateo Revuelta Puente</td>\n",
       "      <td>mateo.revuelta@estudiante.uam.es</td>\n",
       "      <td>Una FinTech es toda  empresa innovadora de bas...</td>\n",
       "      <td>Algunas de las contribuciones de las FinTech a...</td>\n",
       "      <td>7.0</td>\n",
       "      <td>The definition of FinTech provided includes es...</td>\n",
       "      <td>8.0</td>\n",
       "      <td>The student provided a well-structured answer,...</td>\n",
       "      <td>7.50</td>\n",
       "      <td>/workspace/reports/FinTech/alumnos/Mateo_Revue...</td>\n",
       "    </tr>\n",
       "    <tr>\n",
       "      <th>4</th>\n",
       "      <td>Tingting Chen</td>\n",
       "      <td>tingting.chen@estudiante.uam.es</td>\n",
       "      <td>Fintech es una empresa con base tecnológica mu...</td>\n",
       "      <td>Permitir la democratización de las finanzas.Ag...</td>\n",
       "      <td>8.0</td>\n",
       "      <td>The student's response provides a coherent and...</td>\n",
       "      <td>7.0</td>\n",
       "      <td>The student identified three key contributions...</td>\n",
       "      <td>7.50</td>\n",
       "      <td>/workspace/reports/FinTech/alumnos/Tingting_Ch...</td>\n",
       "    </tr>\n",
       "    <tr>\n",
       "      <th>5</th>\n",
       "      <td>Andrea Rozada Suárez</td>\n",
       "      <td>andrea.rozada@estudiante.uam.es</td>\n",
       "      <td>Una fintech es una empresa con una avanzada ba...</td>\n",
       "      <td>Las aportaciones de las fintech al sector han ...</td>\n",
       "      <td>7.5</td>\n",
       "      <td>The definition of FinTech includes two key con...</td>\n",
       "      <td>9.0</td>\n",
       "      <td>The student provided a well-structured answer ...</td>\n",
       "      <td>8.25</td>\n",
       "      <td>/workspace/reports/FinTech/alumnos/Andrea_Roza...</td>\n",
       "    </tr>\n",
       "    <tr>\n",
       "      <th>6</th>\n",
       "      <td>Ana Belén Hornero Romera</td>\n",
       "      <td>ana.hornero@estudiante.uam.es</td>\n",
       "      <td>Fin-tech son empresas que defienden los derech...</td>\n",
       "      <td>Hacen que los asuntos financieros sean ahora m...</td>\n",
       "      <td>3.5</td>\n",
       "      <td>The definition of FinTech provided is incomple...</td>\n",
       "      <td>0.0</td>\n",
       "      <td>The student's response does not address the qu...</td>\n",
       "      <td>1.75</td>\n",
       "      <td>/workspace/reports/FinTech/alumnos/Ana_Belén_H...</td>\n",
       "    </tr>\n",
       "    <tr>\n",
       "      <th>7</th>\n",
       "      <td>Sonsoles Dorao Serrano</td>\n",
       "      <td>sonsoles.dorao@estudiante.uam.es</td>\n",
       "      <td>empresa con base tecnologica, muy desarrollada...</td>\n",
       "      <td>han permitido transparecnia, seguridad, equida...</td>\n",
       "      <td>7.0</td>\n",
       "      <td>The student provided a definition of FinTech t...</td>\n",
       "      <td>3.0</td>\n",
       "      <td>The student's response includes three keywords...</td>\n",
       "      <td>5.00</td>\n",
       "      <td>/workspace/reports/FinTech/alumnos/Sonsoles_Do...</td>\n",
       "    </tr>\n",
       "    <tr>\n",
       "      <th>8</th>\n",
       "      <td>Izan Simarro Martin</td>\n",
       "      <td>izan.simarro@estudiante.uam.es</td>\n",
       "      <td>Una Fintech es una empresa con una  base tecno...</td>\n",
       "      <td>Las tres principales contribuciones de las Fin...</td>\n",
       "      <td>8.5</td>\n",
       "      <td>The response provides a solid definition of Fi...</td>\n",
       "      <td>7.0</td>\n",
       "      <td>The student identifies three contributions of ...</td>\n",
       "      <td>7.75</td>\n",
       "      <td>/workspace/reports/FinTech/alumnos/Izan_Simarr...</td>\n",
       "    </tr>\n",
       "    <tr>\n",
       "      <th>9</th>\n",
       "      <td>Samuel Romero Arriero</td>\n",
       "      <td>samuel.romero@estudiante.uam.es</td>\n",
       "      <td>Una FinTech es una empresa basada principalmen...</td>\n",
       "      <td>Las principales contribuciones de las fintechs...</td>\n",
       "      <td>6.0</td>\n",
       "      <td>The student provides a definition of FinTech t...</td>\n",
       "      <td>0.0</td>\n",
       "      <td>The student's response does not adequately add...</td>\n",
       "      <td>3.00</td>\n",
       "      <td>/workspace/reports/FinTech/alumnos/Samuel_Rome...</td>\n",
       "    </tr>\n",
       "    <tr>\n",
       "      <th>10</th>\n",
       "      <td>Ignacio Fumanal Galdón</td>\n",
       "      <td>ignacio.fumanal@estudiante.uam.es</td>\n",
       "      <td>Tal y como nos han dicho, una Fintech se defin...</td>\n",
       "      <td>Las Fintech han conseguido revolucionar el mer...</td>\n",
       "      <td>4.0</td>\n",
       "      <td>The definition of FinTech provided by the stud...</td>\n",
       "      <td>0.0</td>\n",
       "      <td>The student's response does not address the re...</td>\n",
       "      <td>2.00</td>\n",
       "      <td>/workspace/reports/FinTech/alumnos/Ignacio_Fum...</td>\n",
       "    </tr>\n",
       "    <tr>\n",
       "      <th>11</th>\n",
       "      <td>Lucia De Vicente Chavarri</td>\n",
       "      <td>lucia.devicentec@estudiante.uam.es</td>\n",
       "      <td>Una Fintech es una empresa (proveniente de irr...</td>\n",
       "      <td>Agilidad, transparencia, seguridad, democracid...</td>\n",
       "      <td>7.0</td>\n",
       "      <td>The definition provided for FinTech mentions t...</td>\n",
       "      <td>8.0</td>\n",
       "      <td>The student's response includes five relevant ...</td>\n",
       "      <td>7.50</td>\n",
       "      <td>/workspace/reports/FinTech/alumnos/Lucia_De_Vi...</td>\n",
       "    </tr>\n",
       "    <tr>\n",
       "      <th>12</th>\n",
       "      <td>Alicia Cano Ruiz</td>\n",
       "      <td>alicia.canor@estudiante.uam.es</td>\n",
       "      <td>FinTech es una empresa con una base tecnológic...</td>\n",
       "      <td>Las mayores contribuciones de Fintech han sido...</td>\n",
       "      <td>7.5</td>\n",
       "      <td>The definition of FinTech is mostly accurate a...</td>\n",
       "      <td>9.0</td>\n",
       "      <td>The student's response effectively identifies ...</td>\n",
       "      <td>8.25</td>\n",
       "      <td>/workspace/reports/FinTech/alumnos/Alicia_Cano...</td>\n",
       "    </tr>\n",
       "    <tr>\n",
       "      <th>13</th>\n",
       "      <td>Carla Fernández Del Olmo</td>\n",
       "      <td>carla.fernandezd@estudiante.uam.es</td>\n",
       "      <td>FinTech es una empresa con un alto componente ...</td>\n",
       "      <td>-Democratizacion de el sector financiero- Bene...</td>\n",
       "      <td>4.0</td>\n",
       "      <td>The student's response provides a basic defini...</td>\n",
       "      <td>0.0</td>\n",
       "      <td>The student's response fails to address the qu...</td>\n",
       "      <td>2.00</td>\n",
       "      <td>/workspace/reports/FinTech/alumnos/Carla_Ferná...</td>\n",
       "    </tr>\n",
       "    <tr>\n",
       "      <th>14</th>\n",
       "      <td>Victor Mateos Martinez</td>\n",
       "      <td>victor.mateosm@estudiante.uam.es</td>\n",
       "      <td>A FinTech is a company that works in the finan...</td>\n",
       "      <td>FinTech companies hace collaborated in several...</td>\n",
       "      <td>7.0</td>\n",
       "      <td>The definition of FinTech provided in the answ...</td>\n",
       "      <td>4.0</td>\n",
       "      <td>The student’s response lacks clarity and speci...</td>\n",
       "      <td>5.50</td>\n",
       "      <td>/workspace/reports/FinTech/alumnos/Victor_Mate...</td>\n",
       "    </tr>\n",
       "    <tr>\n",
       "      <th>15</th>\n",
       "      <td>Bartomeu Barceló Bosch</td>\n",
       "      <td>bartomeu.barcelo@estudiante.uam.es</td>\n",
       "      <td>Es una entidad de crédito online que se caract...</td>\n",
       "      <td>-Facilitan el proceso de operaciones bancarias...</td>\n",
       "      <td>6.0</td>\n",
       "      <td>The definition of FinTech provided by the stud...</td>\n",
       "      <td>5.5</td>\n",
       "      <td>The student's response identifies two contribu...</td>\n",
       "      <td>5.75</td>\n",
       "      <td>/workspace/reports/FinTech/alumnos/Bartomeu_Ba...</td>\n",
       "    </tr>\n",
       "    <tr>\n",
       "      <th>16</th>\n",
       "      <td>Pablo Villarrubia Sánchez</td>\n",
       "      <td>pablo.villarrubia@estudiante.uam.es</td>\n",
       "      <td>Una fintech es una empresa innovadora, de reci...</td>\n",
       "      <td>Han mejorado la inclusión financiera, democrat...</td>\n",
       "      <td>7.0</td>\n",
       "      <td>The student provides a definition of FinTech t...</td>\n",
       "      <td>8.5</td>\n",
       "      <td>The student provided a solid answer by listing...</td>\n",
       "      <td>7.75</td>\n",
       "      <td>/workspace/reports/FinTech/alumnos/Pablo_Villa...</td>\n",
       "    </tr>\n",
       "    <tr>\n",
       "      <th>17</th>\n",
       "      <td>Daniela Usaola Loeches</td>\n",
       "      <td>daniela.usaola@estudiante.uam.es</td>\n",
       "      <td>Es una empresa con una base tecnológica muy de...</td>\n",
       "      <td>crear educación financieracrean prods y servi...</td>\n",
       "      <td>6.0</td>\n",
       "      <td>The definition of FinTech provided by the stud...</td>\n",
       "      <td>3.0</td>\n",
       "      <td>The response fails to adequately address the s...</td>\n",
       "      <td>4.50</td>\n",
       "      <td>/workspace/reports/FinTech/alumnos/Daniela_Usa...</td>\n",
       "    </tr>\n",
       "    <tr>\n",
       "      <th>18</th>\n",
       "      <td>Ángela Flores Sevilla</td>\n",
       "      <td>angela.floress@estudiante.uam.es</td>\n",
       "      <td>Fintech es una empresa financiera tecnologica ...</td>\n",
       "      <td>Las principales contribuciones que hizo Fintec...</td>\n",
       "      <td>6.0</td>\n",
       "      <td>The student's answer provides a reasonable def...</td>\n",
       "      <td>7.5</td>\n",
       "      <td>The student provided a response that listed fi...</td>\n",
       "      <td>6.75</td>\n",
       "      <td>/workspace/reports/FinTech/alumnos/Ángela_Flor...</td>\n",
       "    </tr>\n",
       "    <tr>\n",
       "      <th>19</th>\n",
       "      <td>Alejandra Llanos García</td>\n",
       "      <td>alejandra.llanos@estudiante.uam.es</td>\n",
       "      <td>Fintech es  base tecnológica muy desarrollada ...</td>\n",
       "      <td>Las aportaciones de FinTech van desde una mejo...</td>\n",
       "      <td>6.0</td>\n",
       "      <td>The definition of FinTech provided by the stud...</td>\n",
       "      <td>8.0</td>\n",
       "      <td>The student has provided three contributions o...</td>\n",
       "      <td>7.00</td>\n",
       "      <td>/workspace/reports/FinTech/alumnos/Alejandra_L...</td>\n",
       "    </tr>\n",
       "    <tr>\n",
       "      <th>20</th>\n",
       "      <td>Lucia Ruiz Villar</td>\n",
       "      <td>lucia.ruizv@estudiante.uam.es</td>\n",
       "      <td>Una FinTech es toda aquella empresa de base te...</td>\n",
       "      <td>Educación financieraUna mayor conexión, conect...</td>\n",
       "      <td>6.5</td>\n",
       "      <td>The student's definition of FinTech captures t...</td>\n",
       "      <td>0.0</td>\n",
       "      <td>The student's response does not address the qu...</td>\n",
       "      <td>3.25</td>\n",
       "      <td>/workspace/reports/FinTech/alumnos/Lucia_Ruiz_...</td>\n",
       "    </tr>\n",
       "    <tr>\n",
       "      <th>21</th>\n",
       "      <td>Elena Quesada Martin</td>\n",
       "      <td>elena.quesadam@estudiante.uam.es</td>\n",
       "      <td>ES una empresa con una base tecnologica muy de...</td>\n",
       "      <td>- Crean educacion financiera - Innovan y trans...</td>\n",
       "      <td>7.5</td>\n",
       "      <td>The definition of FinTech provided by the stud...</td>\n",
       "      <td>3.0</td>\n",
       "      <td>The student's response does mention one releva...</td>\n",
       "      <td>5.25</td>\n",
       "      <td>/workspace/reports/FinTech/alumnos/Elena_Quesa...</td>\n",
       "    </tr>\n",
       "    <tr>\n",
       "      <th>22</th>\n",
       "      <td>Fernando Martín Tamarit</td>\n",
       "      <td>fernando.martint@estudiante.uam.es</td>\n",
       "      <td>A FinTech is a company with a very advanced te...</td>\n",
       "      <td>Some of the main contributions of FinTech comp...</td>\n",
       "      <td>6.0</td>\n",
       "      <td>The student provides a partial definition of F...</td>\n",
       "      <td>9.0</td>\n",
       "      <td>The student's response effectively identifies ...</td>\n",
       "      <td>7.50</td>\n",
       "      <td>/workspace/reports/FinTech/alumnos/Fernando_Ma...</td>\n",
       "    </tr>\n",
       "    <tr>\n",
       "      <th>23</th>\n",
       "      <td>Asier Vázquez Jiménez</td>\n",
       "      <td>asier.vazquez@estudiante.uam.es</td>\n",
       "      <td>Una Fintech es una empresa con base tecnológic...</td>\n",
       "      <td>Equity crowfunding,</td>\n",
       "      <td>8.0</td>\n",
       "      <td>The student's response effectively defines Fin...</td>\n",
       "      <td>0.0</td>\n",
       "      <td>The student's response does not address the qu...</td>\n",
       "      <td>4.00</td>\n",
       "      <td>/workspace/reports/FinTech/alumnos/Asier_Vázqu...</td>\n",
       "    </tr>\n",
       "    <tr>\n",
       "      <th>24</th>\n",
       "      <td>Isabela Bulgaru</td>\n",
       "      <td>isabela.bulgaru@estudiante.uam.es</td>\n",
       "      <td>Una compañía FinTech es aquella empresa basada...</td>\n",
       "      <td>Las FinTech ha facilitado la llegada de los se...</td>\n",
       "      <td>9.0</td>\n",
       "      <td>The student provided a clear and accurate defi...</td>\n",
       "      <td>8.0</td>\n",
       "      <td>The student response successfully identifies t...</td>\n",
       "      <td>8.50</td>\n",
       "      <td>/workspace/reports/FinTech/alumnos/Isabela_Bul...</td>\n",
       "    </tr>\n",
       "    <tr>\n",
       "      <th>25</th>\n",
       "      <td>Álvaro Fernández Serna</td>\n",
       "      <td>alvaro.fernandezserna@estudiante.uam.es</td>\n",
       "      <td>Una FinTech es una empresa asentada sobre una ...</td>\n",
       "      <td>Transparencia, agilidad, conectividad</td>\n",
       "      <td>6.0</td>\n",
       "      <td>The student provided a partial definition of F...</td>\n",
       "      <td>0.0</td>\n",
       "      <td>The student's response only lists three terms:...</td>\n",
       "      <td>3.00</td>\n",
       "      <td>/workspace/reports/FinTech/alumnos/Álvaro_Fern...</td>\n",
       "    </tr>\n",
       "    <tr>\n",
       "      <th>26</th>\n",
       "      <td>Adriana Ruiz Sanz</td>\n",
       "      <td>adriana.ruizs@estudiante.uam.es</td>\n",
       "      <td>Es una empresa con base tecnológica que ofrece...</td>\n",
       "      <td>La más destacada, en mi opinión, ha sido la di...</td>\n",
       "      <td>6.0</td>\n",
       "      <td>The student's response provides a definition o...</td>\n",
       "      <td>0.0</td>\n",
       "      <td>The student response does not address the spec...</td>\n",
       "      <td>3.00</td>\n",
       "      <td>/workspace/reports/FinTech/alumnos/Adriana_Rui...</td>\n",
       "    </tr>\n",
       "    <tr>\n",
       "      <th>27</th>\n",
       "      <td>Anel Riera Moraian</td>\n",
       "      <td>anel.riera@estudiante.uam.es</td>\n",
       "      <td>FinTech are innovative, technology-based compa...</td>\n",
       "      <td>Innovation by using technology to create new p...</td>\n",
       "      <td>6.0</td>\n",
       "      <td>The definition of FinTech provided by the stud...</td>\n",
       "      <td>7.0</td>\n",
       "      <td>The student provided three contributions of Fi...</td>\n",
       "      <td>6.50</td>\n",
       "      <td>/workspace/reports/FinTech/alumnos/Anel_Riera_...</td>\n",
       "    </tr>\n",
       "    <tr>\n",
       "      <th>28</th>\n",
       "      <td>Sofía Fernández Polo</td>\n",
       "      <td>sofia.fernandezpolo@estudiante.uam.es</td>\n",
       "      <td>Fintech is a sector that uses technology to of...</td>\n",
       "      <td>It has made it easier and faster to access you...</td>\n",
       "      <td>7.0</td>\n",
       "      <td>The student provides an adequate definition of...</td>\n",
       "      <td>8.0</td>\n",
       "      <td>The student successfully identified three cont...</td>\n",
       "      <td>7.50</td>\n",
       "      <td>/workspace/reports/FinTech/alumnos/Sofía_Ferná...</td>\n",
       "    </tr>\n",
       "    <tr>\n",
       "      <th>29</th>\n",
       "      <td>Jaime Lorenzo Pereira</td>\n",
       "      <td>jaime.lorenzop@estudiante.uam.es</td>\n",
       "      <td>Una Fintech es una compañía que surge con la d...</td>\n",
       "      <td>Una mayor educación financiera para la socieda...</td>\n",
       "      <td>6.0</td>\n",
       "      <td>The definition of FinTech is partially adequat...</td>\n",
       "      <td>0.0</td>\n",
       "      <td>The student's response does not address the qu...</td>\n",
       "      <td>3.00</td>\n",
       "      <td>/workspace/reports/FinTech/alumnos/Jaime_Loren...</td>\n",
       "    </tr>\n",
       "    <tr>\n",
       "      <th>30</th>\n",
       "      <td>Lydia Pulido Sebastián</td>\n",
       "      <td>lydia.pulido@estudiante.uam.es</td>\n",
       "      <td>Una Fintech es una empresa innovadora de base ...</td>\n",
       "      <td>Las FinTech han aprovechado la tecnología para...</td>\n",
       "      <td>7.5</td>\n",
       "      <td>The definition of FinTech partially meets the ...</td>\n",
       "      <td>8.0</td>\n",
       "      <td>The student has successfully identified three ...</td>\n",
       "      <td>7.75</td>\n",
       "      <td>/workspace/reports/FinTech/alumnos/Lydia_Pulid...</td>\n",
       "    </tr>\n",
       "    <tr>\n",
       "      <th>31</th>\n",
       "      <td>Luis García-Larrache Segura</td>\n",
       "      <td>luis.garcia-larrache@estudiante.uam.es</td>\n",
       "      <td>Una  empresa con una base tecnológica muy desa...</td>\n",
       "      <td>Inclusión Financiera. Generando también de es...</td>\n",
       "      <td>5.5</td>\n",
       "      <td>The student's response partially addresses the...</td>\n",
       "      <td>8.0</td>\n",
       "      <td>The student effectively identified five contri...</td>\n",
       "      <td>6.75</td>\n",
       "      <td>/workspace/reports/FinTech/alumnos/Luis_García...</td>\n",
       "    </tr>\n",
       "    <tr>\n",
       "      <th>32</th>\n",
       "      <td>Araziel Nato Cando</td>\n",
       "      <td>araziel.nato@estudiante.uam.es</td>\n",
       "      <td>FinTech is an innovative and well-established ...</td>\n",
       "      <td>Democratisation of finance.Geolocation Security</td>\n",
       "      <td>8.0</td>\n",
       "      <td>The definition of FinTech includes all three k...</td>\n",
       "      <td>5.0</td>\n",
       "      <td>The student response lists three contributions...</td>\n",
       "      <td>6.50</td>\n",
       "      <td>/workspace/reports/FinTech/alumnos/Araziel_Nat...</td>\n",
       "    </tr>\n",
       "    <tr>\n",
       "      <th>33</th>\n",
       "      <td>María Fernández De Sevilla Fernández</td>\n",
       "      <td>maria.ff@estudiante.uam.es</td>\n",
       "      <td>Fintech es una empresa con base tecnológica mu...</td>\n",
       "      <td>La principales contribuciones han sido: Nuevas...</td>\n",
       "      <td>7.0</td>\n",
       "      <td>The student's definition of FinTech captures t...</td>\n",
       "      <td>0.0</td>\n",
       "      <td>The student's response does not adequately add...</td>\n",
       "      <td>3.50</td>\n",
       "      <td>/workspace/reports/FinTech/alumnos/María_Ferná...</td>\n",
       "    </tr>\n",
       "    <tr>\n",
       "      <th>34</th>\n",
       "      <td>Ángel Prados Villaseca</td>\n",
       "      <td>angel.prados@estudiante.uam.es</td>\n",
       "      <td>A FinTech is an organization dedicated to the ...</td>\n",
       "      <td>FinTechs are allowing the financial market to ...</td>\n",
       "      <td>6.0</td>\n",
       "      <td>The definition of FinTech provided by the stud...</td>\n",
       "      <td>0.0</td>\n",
       "      <td>The student's response does not address any of...</td>\n",
       "      <td>3.00</td>\n",
       "      <td>/workspace/reports/FinTech/alumnos/Ángel_Prado...</td>\n",
       "    </tr>\n",
       "    <tr>\n",
       "      <th>35</th>\n",
       "      <td>Juan Gonzalo Bernal</td>\n",
       "      <td>juan.gonzalob@estudiante.uam.es</td>\n",
       "      <td>Toda empresa innovadora de base tecnológica mu...</td>\n",
       "      <td>Los servicios de agregación, las transferencia...</td>\n",
       "      <td>7.0</td>\n",
       "      <td>The student provides a generally accurate defi...</td>\n",
       "      <td>0.0</td>\n",
       "      <td>The student's response does not address the qu...</td>\n",
       "      <td>3.50</td>\n",
       "      <td>/workspace/reports/FinTech/alumnos/Juan_Gonzal...</td>\n",
       "    </tr>\n",
       "    <tr>\n",
       "      <th>36</th>\n",
       "      <td>Marta-Luciana Rosca</td>\n",
       "      <td>marta-luciana.rosca@estudiante.uam.es</td>\n",
       "      <td>Una Fintech  es una empresa con una base tecno...</td>\n",
       "      <td>Quien crea las Fintech,  dependen de  los mini...</td>\n",
       "      <td>6.5</td>\n",
       "      <td>The definition of FinTech presented in the ans...</td>\n",
       "      <td>0.0</td>\n",
       "      <td>The student response does not address the ques...</td>\n",
       "      <td>3.25</td>\n",
       "      <td>/workspace/reports/FinTech/alumnos/Marta-Lucia...</td>\n",
       "    </tr>\n",
       "    <tr>\n",
       "      <th>37</th>\n",
       "      <td>Marco Pinna Carta</td>\n",
       "      <td>marco.pinnacarta@estudiante.uam.es</td>\n",
       "      <td>Finetech is an industry which uses a strong te...</td>\n",
       "      <td>Finetech companies helped the financial sector...</td>\n",
       "      <td>4.0</td>\n",
       "      <td>The student's definition of FinTech mentions t...</td>\n",
       "      <td>6.0</td>\n",
       "      <td>The student identified three contributions of ...</td>\n",
       "      <td>5.00</td>\n",
       "      <td>/workspace/reports/FinTech/alumnos/Marco_Pinna...</td>\n",
       "    </tr>\n",
       "  </tbody>\n",
       "</table>\n",
       "</div>"
      ],
      "text/plain": [
       "                         Nombre completo  \\\n",
       "0                Marcos Dominguez Valdes   \n",
       "1                 Roberto García De Cabo   \n",
       "2             Daniel Zubillaga Fernández   \n",
       "3                  Mateo Revuelta Puente   \n",
       "4                          Tingting Chen   \n",
       "5                   Andrea Rozada Suárez   \n",
       "6               Ana Belén Hornero Romera   \n",
       "7                 Sonsoles Dorao Serrano   \n",
       "8                    Izan Simarro Martin   \n",
       "9                  Samuel Romero Arriero   \n",
       "10                Ignacio Fumanal Galdón   \n",
       "11             Lucia De Vicente Chavarri   \n",
       "12                      Alicia Cano Ruiz   \n",
       "13              Carla Fernández Del Olmo   \n",
       "14                Victor Mateos Martinez   \n",
       "15                Bartomeu Barceló Bosch   \n",
       "16             Pablo Villarrubia Sánchez   \n",
       "17                Daniela Usaola Loeches   \n",
       "18                 Ángela Flores Sevilla   \n",
       "19               Alejandra Llanos García   \n",
       "20                     Lucia Ruiz Villar   \n",
       "21                  Elena Quesada Martin   \n",
       "22               Fernando Martín Tamarit   \n",
       "23                 Asier Vázquez Jiménez   \n",
       "24                     Isabela Bulgaru     \n",
       "25                Álvaro Fernández Serna   \n",
       "26                     Adriana Ruiz Sanz   \n",
       "27                    Anel Riera Moraian   \n",
       "28                  Sofía Fernández Polo   \n",
       "29                 Jaime Lorenzo Pereira   \n",
       "30                Lydia Pulido Sebastián   \n",
       "31           Luis García-Larrache Segura   \n",
       "32                    Araziel Nato Cando   \n",
       "33  María Fernández De Sevilla Fernández   \n",
       "34                Ángel Prados Villaseca   \n",
       "35                   Juan Gonzalo Bernal   \n",
       "36                   Marta-Luciana Rosca   \n",
       "37                   Marco Pinna Carta     \n",
       "\n",
       "                          Nombre de usuario  \\\n",
       "0       marcos.dominguezv@estudiante.uam.es   \n",
       "1    roberto.garciadecabo@estudiante.uam.es   \n",
       "2        daniel.zubillaga@estudiante.uam.es   \n",
       "3          mateo.revuelta@estudiante.uam.es   \n",
       "4           tingting.chen@estudiante.uam.es   \n",
       "5           andrea.rozada@estudiante.uam.es   \n",
       "6             ana.hornero@estudiante.uam.es   \n",
       "7          sonsoles.dorao@estudiante.uam.es   \n",
       "8            izan.simarro@estudiante.uam.es   \n",
       "9           samuel.romero@estudiante.uam.es   \n",
       "10        ignacio.fumanal@estudiante.uam.es   \n",
       "11       lucia.devicentec@estudiante.uam.es   \n",
       "12           alicia.canor@estudiante.uam.es   \n",
       "13       carla.fernandezd@estudiante.uam.es   \n",
       "14         victor.mateosm@estudiante.uam.es   \n",
       "15       bartomeu.barcelo@estudiante.uam.es   \n",
       "16      pablo.villarrubia@estudiante.uam.es   \n",
       "17         daniela.usaola@estudiante.uam.es   \n",
       "18         angela.floress@estudiante.uam.es   \n",
       "19       alejandra.llanos@estudiante.uam.es   \n",
       "20            lucia.ruizv@estudiante.uam.es   \n",
       "21         elena.quesadam@estudiante.uam.es   \n",
       "22       fernando.martint@estudiante.uam.es   \n",
       "23          asier.vazquez@estudiante.uam.es   \n",
       "24        isabela.bulgaru@estudiante.uam.es   \n",
       "25  alvaro.fernandezserna@estudiante.uam.es   \n",
       "26          adriana.ruizs@estudiante.uam.es   \n",
       "27             anel.riera@estudiante.uam.es   \n",
       "28    sofia.fernandezpolo@estudiante.uam.es   \n",
       "29         jaime.lorenzop@estudiante.uam.es   \n",
       "30           lydia.pulido@estudiante.uam.es   \n",
       "31   luis.garcia-larrache@estudiante.uam.es   \n",
       "32           araziel.nato@estudiante.uam.es   \n",
       "33               maria.ff@estudiante.uam.es   \n",
       "34           angel.prados@estudiante.uam.es   \n",
       "35          juan.gonzalob@estudiante.uam.es   \n",
       "36    marta-luciana.rosca@estudiante.uam.es   \n",
       "37       marco.pinnacarta@estudiante.uam.es   \n",
       "\n",
       "                         Q11_Session content review 1  \\\n",
       "0   Una fintech es una empresa que utiliza la tecn...   \n",
       "1   Una FinTech es una empresa cuya base es la tec...   \n",
       "2   Se trata de una empresa que es tecnológica y s...   \n",
       "3   Una FinTech es toda  empresa innovadora de bas...   \n",
       "4   Fintech es una empresa con base tecnológica mu...   \n",
       "5   Una fintech es una empresa con una avanzada ba...   \n",
       "6   Fin-tech son empresas que defienden los derech...   \n",
       "7   empresa con base tecnologica, muy desarrollada...   \n",
       "8   Una Fintech es una empresa con una  base tecno...   \n",
       "9   Una FinTech es una empresa basada principalmen...   \n",
       "10  Tal y como nos han dicho, una Fintech se defin...   \n",
       "11  Una Fintech es una empresa (proveniente de irr...   \n",
       "12  FinTech es una empresa con una base tecnológic...   \n",
       "13  FinTech es una empresa con un alto componente ...   \n",
       "14  A FinTech is a company that works in the finan...   \n",
       "15  Es una entidad de crédito online que se caract...   \n",
       "16  Una fintech es una empresa innovadora, de reci...   \n",
       "17  Es una empresa con una base tecnológica muy de...   \n",
       "18  Fintech es una empresa financiera tecnologica ...   \n",
       "19  Fintech es  base tecnológica muy desarrollada ...   \n",
       "20  Una FinTech es toda aquella empresa de base te...   \n",
       "21  ES una empresa con una base tecnologica muy de...   \n",
       "22  A FinTech is a company with a very advanced te...   \n",
       "23  Una Fintech es una empresa con base tecnológic...   \n",
       "24  Una compañía FinTech es aquella empresa basada...   \n",
       "25  Una FinTech es una empresa asentada sobre una ...   \n",
       "26  Es una empresa con base tecnológica que ofrece...   \n",
       "27  FinTech are innovative, technology-based compa...   \n",
       "28  Fintech is a sector that uses technology to of...   \n",
       "29  Una Fintech es una compañía que surge con la d...   \n",
       "30  Una Fintech es una empresa innovadora de base ...   \n",
       "31  Una  empresa con una base tecnológica muy desa...   \n",
       "32  FinTech is an innovative and well-established ...   \n",
       "33  Fintech es una empresa con base tecnológica mu...   \n",
       "34  A FinTech is an organization dedicated to the ...   \n",
       "35  Toda empresa innovadora de base tecnológica mu...   \n",
       "36  Una Fintech  es una empresa con una base tecno...   \n",
       "37  Finetech is an industry which uses a strong te...   \n",
       "\n",
       "                         Q12_Session content review 2  Nota Q11  \\\n",
       "0   La principal contribucion de las fintech al se...       4.5   \n",
       "1     ayudar a cumplir los objetivos de las empresas        3.0   \n",
       "2   Una de ellas podrías ser cuando Microsoft Exce...       4.0   \n",
       "3   Algunas de las contribuciones de las FinTech a...       7.0   \n",
       "4   Permitir la democratización de las finanzas.Ag...       8.0   \n",
       "5   Las aportaciones de las fintech al sector han ...       7.5   \n",
       "6   Hacen que los asuntos financieros sean ahora m...       3.5   \n",
       "7   han permitido transparecnia, seguridad, equida...       7.0   \n",
       "8   Las tres principales contribuciones de las Fin...       8.5   \n",
       "9   Las principales contribuciones de las fintechs...       6.0   \n",
       "10  Las Fintech han conseguido revolucionar el mer...       4.0   \n",
       "11  Agilidad, transparencia, seguridad, democracid...       7.0   \n",
       "12  Las mayores contribuciones de Fintech han sido...       7.5   \n",
       "13  -Democratizacion de el sector financiero- Bene...       4.0   \n",
       "14  FinTech companies hace collaborated in several...       7.0   \n",
       "15  -Facilitan el proceso de operaciones bancarias...       6.0   \n",
       "16  Han mejorado la inclusión financiera, democrat...       7.0   \n",
       "17   crear educación financieracrean prods y servi...       6.0   \n",
       "18  Las principales contribuciones que hizo Fintec...       6.0   \n",
       "19  Las aportaciones de FinTech van desde una mejo...       6.0   \n",
       "20  Educación financieraUna mayor conexión, conect...       6.5   \n",
       "21  - Crean educacion financiera - Innovan y trans...       7.5   \n",
       "22  Some of the main contributions of FinTech comp...       6.0   \n",
       "23                               Equity crowfunding,        8.0   \n",
       "24  Las FinTech ha facilitado la llegada de los se...       9.0   \n",
       "25              Transparencia, agilidad, conectividad       6.0   \n",
       "26  La más destacada, en mi opinión, ha sido la di...       6.0   \n",
       "27  Innovation by using technology to create new p...       6.0   \n",
       "28  It has made it easier and faster to access you...       7.0   \n",
       "29  Una mayor educación financiera para la socieda...       6.0   \n",
       "30  Las FinTech han aprovechado la tecnología para...       7.5   \n",
       "31   Inclusión Financiera. Generando también de es...       5.5   \n",
       "32    Democratisation of finance.Geolocation Security       8.0   \n",
       "33  La principales contribuciones han sido: Nuevas...       7.0   \n",
       "34  FinTechs are allowing the financial market to ...       6.0   \n",
       "35  Los servicios de agregación, las transferencia...       7.0   \n",
       "36  Quien crea las Fintech,  dependen de  los mini...       6.5   \n",
       "37  Finetech companies helped the financial sector...       4.0   \n",
       "\n",
       "                                       Comentario Q11  Nota Q12  \\\n",
       "0   The student's definition of FinTech includes t...       0.0   \n",
       "1   The definition of FinTech contains a few key e...       0.0   \n",
       "2   The student's response lacks a clear and compl...       0.0   \n",
       "3   The definition of FinTech provided includes es...       8.0   \n",
       "4   The student's response provides a coherent and...       7.0   \n",
       "5   The definition of FinTech includes two key con...       9.0   \n",
       "6   The definition of FinTech provided is incomple...       0.0   \n",
       "7   The student provided a definition of FinTech t...       3.0   \n",
       "8   The response provides a solid definition of Fi...       7.0   \n",
       "9   The student provides a definition of FinTech t...       0.0   \n",
       "10  The definition of FinTech provided by the stud...       0.0   \n",
       "11  The definition provided for FinTech mentions t...       8.0   \n",
       "12  The definition of FinTech is mostly accurate a...       9.0   \n",
       "13  The student's response provides a basic defini...       0.0   \n",
       "14  The definition of FinTech provided in the answ...       4.0   \n",
       "15  The definition of FinTech provided by the stud...       5.5   \n",
       "16  The student provides a definition of FinTech t...       8.5   \n",
       "17  The definition of FinTech provided by the stud...       3.0   \n",
       "18  The student's answer provides a reasonable def...       7.5   \n",
       "19  The definition of FinTech provided by the stud...       8.0   \n",
       "20  The student's definition of FinTech captures t...       0.0   \n",
       "21  The definition of FinTech provided by the stud...       3.0   \n",
       "22  The student provides a partial definition of F...       9.0   \n",
       "23  The student's response effectively defines Fin...       0.0   \n",
       "24  The student provided a clear and accurate defi...       8.0   \n",
       "25  The student provided a partial definition of F...       0.0   \n",
       "26  The student's response provides a definition o...       0.0   \n",
       "27  The definition of FinTech provided by the stud...       7.0   \n",
       "28  The student provides an adequate definition of...       8.0   \n",
       "29  The definition of FinTech is partially adequat...       0.0   \n",
       "30  The definition of FinTech partially meets the ...       8.0   \n",
       "31  The student's response partially addresses the...       8.0   \n",
       "32  The definition of FinTech includes all three k...       5.0   \n",
       "33  The student's definition of FinTech captures t...       0.0   \n",
       "34  The definition of FinTech provided by the stud...       0.0   \n",
       "35  The student provides a generally accurate defi...       0.0   \n",
       "36  The definition of FinTech presented in the ans...       0.0   \n",
       "37  The student's definition of FinTech mentions t...       6.0   \n",
       "\n",
       "                                       Comentario Q12  Nota Final  \\\n",
       "0   The student's response does not adequately add...        2.25   \n",
       "1   The student's response does not address any of...        1.50   \n",
       "2   The student's response does not address the qu...        2.00   \n",
       "3   The student provided a well-structured answer,...        7.50   \n",
       "4   The student identified three key contributions...        7.50   \n",
       "5   The student provided a well-structured answer ...        8.25   \n",
       "6   The student's response does not address the qu...        1.75   \n",
       "7   The student's response includes three keywords...        5.00   \n",
       "8   The student identifies three contributions of ...        7.75   \n",
       "9   The student's response does not adequately add...        3.00   \n",
       "10  The student's response does not address the re...        2.00   \n",
       "11  The student's response includes five relevant ...        7.50   \n",
       "12  The student's response effectively identifies ...        8.25   \n",
       "13  The student's response fails to address the qu...        2.00   \n",
       "14  The student’s response lacks clarity and speci...        5.50   \n",
       "15  The student's response identifies two contribu...        5.75   \n",
       "16  The student provided a solid answer by listing...        7.75   \n",
       "17  The response fails to adequately address the s...        4.50   \n",
       "18  The student provided a response that listed fi...        6.75   \n",
       "19  The student has provided three contributions o...        7.00   \n",
       "20  The student's response does not address the qu...        3.25   \n",
       "21  The student's response does mention one releva...        5.25   \n",
       "22  The student's response effectively identifies ...        7.50   \n",
       "23  The student's response does not address the qu...        4.00   \n",
       "24  The student response successfully identifies t...        8.50   \n",
       "25  The student's response only lists three terms:...        3.00   \n",
       "26  The student response does not address the spec...        3.00   \n",
       "27  The student provided three contributions of Fi...        6.50   \n",
       "28  The student successfully identified three cont...        7.50   \n",
       "29  The student's response does not address the qu...        3.00   \n",
       "30  The student has successfully identified three ...        7.75   \n",
       "31  The student effectively identified five contri...        6.75   \n",
       "32  The student response lists three contributions...        6.50   \n",
       "33  The student's response does not adequately add...        3.50   \n",
       "34  The student's response does not address any of...        3.00   \n",
       "35  The student's response does not address the qu...        3.50   \n",
       "36  The student response does not address the ques...        3.25   \n",
       "37  The student identified three contributions of ...        5.00   \n",
       "\n",
       "                                             Ruta PDF  \n",
       "0   /workspace/reports/FinTech/alumnos/Marcos_Domi...  \n",
       "1   /workspace/reports/FinTech/alumnos/Roberto_Gar...  \n",
       "2   /workspace/reports/FinTech/alumnos/Daniel_Zubi...  \n",
       "3   /workspace/reports/FinTech/alumnos/Mateo_Revue...  \n",
       "4   /workspace/reports/FinTech/alumnos/Tingting_Ch...  \n",
       "5   /workspace/reports/FinTech/alumnos/Andrea_Roza...  \n",
       "6   /workspace/reports/FinTech/alumnos/Ana_Belén_H...  \n",
       "7   /workspace/reports/FinTech/alumnos/Sonsoles_Do...  \n",
       "8   /workspace/reports/FinTech/alumnos/Izan_Simarr...  \n",
       "9   /workspace/reports/FinTech/alumnos/Samuel_Rome...  \n",
       "10  /workspace/reports/FinTech/alumnos/Ignacio_Fum...  \n",
       "11  /workspace/reports/FinTech/alumnos/Lucia_De_Vi...  \n",
       "12  /workspace/reports/FinTech/alumnos/Alicia_Cano...  \n",
       "13  /workspace/reports/FinTech/alumnos/Carla_Ferná...  \n",
       "14  /workspace/reports/FinTech/alumnos/Victor_Mate...  \n",
       "15  /workspace/reports/FinTech/alumnos/Bartomeu_Ba...  \n",
       "16  /workspace/reports/FinTech/alumnos/Pablo_Villa...  \n",
       "17  /workspace/reports/FinTech/alumnos/Daniela_Usa...  \n",
       "18  /workspace/reports/FinTech/alumnos/Ángela_Flor...  \n",
       "19  /workspace/reports/FinTech/alumnos/Alejandra_L...  \n",
       "20  /workspace/reports/FinTech/alumnos/Lucia_Ruiz_...  \n",
       "21  /workspace/reports/FinTech/alumnos/Elena_Quesa...  \n",
       "22  /workspace/reports/FinTech/alumnos/Fernando_Ma...  \n",
       "23  /workspace/reports/FinTech/alumnos/Asier_Vázqu...  \n",
       "24  /workspace/reports/FinTech/alumnos/Isabela_Bul...  \n",
       "25  /workspace/reports/FinTech/alumnos/Álvaro_Fern...  \n",
       "26  /workspace/reports/FinTech/alumnos/Adriana_Rui...  \n",
       "27  /workspace/reports/FinTech/alumnos/Anel_Riera_...  \n",
       "28  /workspace/reports/FinTech/alumnos/Sofía_Ferná...  \n",
       "29  /workspace/reports/FinTech/alumnos/Jaime_Loren...  \n",
       "30  /workspace/reports/FinTech/alumnos/Lydia_Pulid...  \n",
       "31  /workspace/reports/FinTech/alumnos/Luis_García...  \n",
       "32  /workspace/reports/FinTech/alumnos/Araziel_Nat...  \n",
       "33  /workspace/reports/FinTech/alumnos/María_Ferná...  \n",
       "34  /workspace/reports/FinTech/alumnos/Ángel_Prado...  \n",
       "35  /workspace/reports/FinTech/alumnos/Juan_Gonzal...  \n",
       "36  /workspace/reports/FinTech/alumnos/Marta-Lucia...  \n",
       "37  /workspace/reports/FinTech/alumnos/Marco_Pinna...  "
      ]
     },
     "execution_count": 20,
     "metadata": {},
     "output_type": "execute_result"
    }
   ],
   "source": [
    "df_resultado"
   ]
  },
  {
   "cell_type": "code",
   "execution_count": 21,
   "metadata": {},
   "outputs": [
    {
     "name": "stderr",
     "output_type": "stream",
     "text": [
      "Enviando correos:   3%|▎         | 1/38 [00:01<00:59,  1.62s/correo]"
     ]
    },
    {
     "name": "stdout",
     "output_type": "stream",
     "text": [
      "Correo enviado con éxito a marcos.dominguezv@estudiante.uam.es\n"
     ]
    },
    {
     "name": "stderr",
     "output_type": "stream",
     "text": [
      "Enviando correos:   5%|▌         | 2/38 [00:03<00:56,  1.58s/correo]"
     ]
    },
    {
     "name": "stdout",
     "output_type": "stream",
     "text": [
      "Correo enviado con éxito a roberto.garciadecabo@estudiante.uam.es\n"
     ]
    },
    {
     "name": "stderr",
     "output_type": "stream",
     "text": [
      "Enviando correos:   8%|▊         | 3/38 [00:04<00:57,  1.65s/correo]"
     ]
    },
    {
     "name": "stdout",
     "output_type": "stream",
     "text": [
      "Correo enviado con éxito a daniel.zubillaga@estudiante.uam.es\n"
     ]
    },
    {
     "name": "stderr",
     "output_type": "stream",
     "text": [
      "Enviando correos:  11%|█         | 4/38 [00:06<00:55,  1.65s/correo]"
     ]
    },
    {
     "name": "stdout",
     "output_type": "stream",
     "text": [
      "Correo enviado con éxito a mateo.revuelta@estudiante.uam.es\n"
     ]
    },
    {
     "name": "stderr",
     "output_type": "stream",
     "text": [
      "Enviando correos:  13%|█▎        | 5/38 [00:08<00:54,  1.64s/correo]"
     ]
    },
    {
     "name": "stdout",
     "output_type": "stream",
     "text": [
      "Correo enviado con éxito a tingting.chen@estudiante.uam.es\n"
     ]
    },
    {
     "name": "stderr",
     "output_type": "stream",
     "text": [
      "Enviando correos:  16%|█▌        | 6/38 [00:09<00:51,  1.61s/correo]"
     ]
    },
    {
     "name": "stdout",
     "output_type": "stream",
     "text": [
      "Correo enviado con éxito a andrea.rozada@estudiante.uam.es\n"
     ]
    },
    {
     "name": "stderr",
     "output_type": "stream",
     "text": [
      "Enviando correos:  18%|█▊        | 7/38 [00:11<00:50,  1.62s/correo]"
     ]
    },
    {
     "name": "stdout",
     "output_type": "stream",
     "text": [
      "Correo enviado con éxito a ana.hornero@estudiante.uam.es\n"
     ]
    },
    {
     "name": "stderr",
     "output_type": "stream",
     "text": [
      "Enviando correos:  21%|██        | 8/38 [00:12<00:48,  1.61s/correo]"
     ]
    },
    {
     "name": "stdout",
     "output_type": "stream",
     "text": [
      "Correo enviado con éxito a sonsoles.dorao@estudiante.uam.es\n"
     ]
    },
    {
     "name": "stderr",
     "output_type": "stream",
     "text": [
      "Enviando correos:  24%|██▎       | 9/38 [00:14<00:46,  1.59s/correo]"
     ]
    },
    {
     "name": "stdout",
     "output_type": "stream",
     "text": [
      "Correo enviado con éxito a izan.simarro@estudiante.uam.es\n"
     ]
    },
    {
     "name": "stderr",
     "output_type": "stream",
     "text": [
      "Enviando correos:  26%|██▋       | 10/38 [00:16<00:43,  1.57s/correo]"
     ]
    },
    {
     "name": "stdout",
     "output_type": "stream",
     "text": [
      "Correo enviado con éxito a samuel.romero@estudiante.uam.es\n"
     ]
    },
    {
     "name": "stderr",
     "output_type": "stream",
     "text": [
      "Enviando correos:  29%|██▉       | 11/38 [00:17<00:41,  1.55s/correo]"
     ]
    },
    {
     "name": "stdout",
     "output_type": "stream",
     "text": [
      "Correo enviado con éxito a ignacio.fumanal@estudiante.uam.es\n"
     ]
    },
    {
     "name": "stderr",
     "output_type": "stream",
     "text": [
      "Enviando correos:  32%|███▏      | 12/38 [00:19<00:40,  1.54s/correo]"
     ]
    },
    {
     "name": "stdout",
     "output_type": "stream",
     "text": [
      "Correo enviado con éxito a lucia.devicentec@estudiante.uam.es\n"
     ]
    },
    {
     "name": "stderr",
     "output_type": "stream",
     "text": [
      "Enviando correos:  34%|███▍      | 13/38 [00:20<00:38,  1.55s/correo]"
     ]
    },
    {
     "name": "stdout",
     "output_type": "stream",
     "text": [
      "Correo enviado con éxito a alicia.canor@estudiante.uam.es\n"
     ]
    },
    {
     "name": "stderr",
     "output_type": "stream",
     "text": [
      "Enviando correos:  37%|███▋      | 14/38 [00:22<00:37,  1.55s/correo]"
     ]
    },
    {
     "name": "stdout",
     "output_type": "stream",
     "text": [
      "Correo enviado con éxito a carla.fernandezd@estudiante.uam.es\n"
     ]
    },
    {
     "name": "stderr",
     "output_type": "stream",
     "text": [
      "Enviando correos:  39%|███▉      | 15/38 [00:23<00:37,  1.62s/correo]"
     ]
    },
    {
     "name": "stdout",
     "output_type": "stream",
     "text": [
      "Correo enviado con éxito a victor.mateosm@estudiante.uam.es\n"
     ]
    },
    {
     "name": "stderr",
     "output_type": "stream",
     "text": [
      "Enviando correos:  42%|████▏     | 16/38 [00:25<00:35,  1.60s/correo]"
     ]
    },
    {
     "name": "stdout",
     "output_type": "stream",
     "text": [
      "Correo enviado con éxito a bartomeu.barcelo@estudiante.uam.es\n"
     ]
    },
    {
     "name": "stderr",
     "output_type": "stream",
     "text": [
      "Enviando correos:  45%|████▍     | 17/38 [00:27<00:34,  1.63s/correo]"
     ]
    },
    {
     "name": "stdout",
     "output_type": "stream",
     "text": [
      "Correo enviado con éxito a pablo.villarrubia@estudiante.uam.es\n"
     ]
    },
    {
     "name": "stderr",
     "output_type": "stream",
     "text": [
      "Enviando correos:  47%|████▋     | 18/38 [00:28<00:32,  1.62s/correo]"
     ]
    },
    {
     "name": "stdout",
     "output_type": "stream",
     "text": [
      "Correo enviado con éxito a daniela.usaola@estudiante.uam.es\n"
     ]
    },
    {
     "name": "stderr",
     "output_type": "stream",
     "text": [
      "Enviando correos:  50%|█████     | 19/38 [00:31<00:34,  1.84s/correo]"
     ]
    },
    {
     "name": "stdout",
     "output_type": "stream",
     "text": [
      "Correo enviado con éxito a angela.floress@estudiante.uam.es\n"
     ]
    },
    {
     "name": "stderr",
     "output_type": "stream",
     "text": [
      "Enviando correos:  53%|█████▎    | 20/38 [00:32<00:32,  1.78s/correo]"
     ]
    },
    {
     "name": "stdout",
     "output_type": "stream",
     "text": [
      "Correo enviado con éxito a alejandra.llanos@estudiante.uam.es\n"
     ]
    },
    {
     "name": "stderr",
     "output_type": "stream",
     "text": [
      "Enviando correos:  55%|█████▌    | 21/38 [00:34<00:29,  1.71s/correo]"
     ]
    },
    {
     "name": "stdout",
     "output_type": "stream",
     "text": [
      "Correo enviado con éxito a lucia.ruizv@estudiante.uam.es\n"
     ]
    },
    {
     "name": "stderr",
     "output_type": "stream",
     "text": [
      "Enviando correos:  58%|█████▊    | 22/38 [00:35<00:26,  1.68s/correo]"
     ]
    },
    {
     "name": "stdout",
     "output_type": "stream",
     "text": [
      "Correo enviado con éxito a elena.quesadam@estudiante.uam.es\n"
     ]
    },
    {
     "name": "stderr",
     "output_type": "stream",
     "text": [
      "Enviando correos:  61%|██████    | 23/38 [00:37<00:24,  1.65s/correo]"
     ]
    },
    {
     "name": "stdout",
     "output_type": "stream",
     "text": [
      "Correo enviado con éxito a fernando.martint@estudiante.uam.es\n"
     ]
    },
    {
     "name": "stderr",
     "output_type": "stream",
     "text": [
      "Enviando correos:  63%|██████▎   | 24/38 [00:39<00:22,  1.62s/correo]"
     ]
    },
    {
     "name": "stdout",
     "output_type": "stream",
     "text": [
      "Correo enviado con éxito a asier.vazquez@estudiante.uam.es\n"
     ]
    },
    {
     "name": "stderr",
     "output_type": "stream",
     "text": [
      "Enviando correos:  66%|██████▌   | 25/38 [00:40<00:20,  1.61s/correo]"
     ]
    },
    {
     "name": "stdout",
     "output_type": "stream",
     "text": [
      "Correo enviado con éxito a isabela.bulgaru@estudiante.uam.es\n"
     ]
    },
    {
     "name": "stderr",
     "output_type": "stream",
     "text": [
      "Enviando correos:  68%|██████▊   | 26/38 [00:42<00:19,  1.60s/correo]"
     ]
    },
    {
     "name": "stdout",
     "output_type": "stream",
     "text": [
      "Correo enviado con éxito a alvaro.fernandezserna@estudiante.uam.es\n"
     ]
    },
    {
     "name": "stderr",
     "output_type": "stream",
     "text": [
      "Enviando correos:  71%|███████   | 27/38 [00:43<00:17,  1.57s/correo]"
     ]
    },
    {
     "name": "stdout",
     "output_type": "stream",
     "text": [
      "Correo enviado con éxito a adriana.ruizs@estudiante.uam.es\n"
     ]
    },
    {
     "name": "stderr",
     "output_type": "stream",
     "text": [
      "Enviando correos:  74%|███████▎  | 28/38 [00:45<00:16,  1.62s/correo]"
     ]
    },
    {
     "name": "stdout",
     "output_type": "stream",
     "text": [
      "Correo enviado con éxito a anel.riera@estudiante.uam.es\n"
     ]
    },
    {
     "name": "stderr",
     "output_type": "stream",
     "text": [
      "Enviando correos:  76%|███████▋  | 29/38 [00:47<00:14,  1.63s/correo]"
     ]
    },
    {
     "name": "stdout",
     "output_type": "stream",
     "text": [
      "Correo enviado con éxito a sofia.fernandezpolo@estudiante.uam.es\n"
     ]
    },
    {
     "name": "stderr",
     "output_type": "stream",
     "text": [
      "Enviando correos:  79%|███████▉  | 30/38 [00:48<00:13,  1.63s/correo]"
     ]
    },
    {
     "name": "stdout",
     "output_type": "stream",
     "text": [
      "Correo enviado con éxito a jaime.lorenzop@estudiante.uam.es\n"
     ]
    },
    {
     "name": "stderr",
     "output_type": "stream",
     "text": [
      "Enviando correos:  82%|████████▏ | 31/38 [00:50<00:11,  1.65s/correo]"
     ]
    },
    {
     "name": "stdout",
     "output_type": "stream",
     "text": [
      "Correo enviado con éxito a lydia.pulido@estudiante.uam.es\n"
     ]
    },
    {
     "name": "stderr",
     "output_type": "stream",
     "text": [
      "Enviando correos:  84%|████████▍ | 32/38 [00:52<00:09,  1.63s/correo]"
     ]
    },
    {
     "name": "stdout",
     "output_type": "stream",
     "text": [
      "Correo enviado con éxito a luis.garcia-larrache@estudiante.uam.es\n"
     ]
    },
    {
     "name": "stderr",
     "output_type": "stream",
     "text": [
      "Enviando correos:  87%|████████▋ | 33/38 [00:53<00:08,  1.68s/correo]"
     ]
    },
    {
     "name": "stdout",
     "output_type": "stream",
     "text": [
      "Correo enviado con éxito a araziel.nato@estudiante.uam.es\n"
     ]
    },
    {
     "name": "stderr",
     "output_type": "stream",
     "text": [
      "Enviando correos:  89%|████████▉ | 34/38 [00:55<00:06,  1.68s/correo]"
     ]
    },
    {
     "name": "stdout",
     "output_type": "stream",
     "text": [
      "Correo enviado con éxito a maria.ff@estudiante.uam.es\n"
     ]
    },
    {
     "name": "stderr",
     "output_type": "stream",
     "text": [
      "Enviando correos:  92%|█████████▏| 35/38 [00:57<00:05,  1.71s/correo]"
     ]
    },
    {
     "name": "stdout",
     "output_type": "stream",
     "text": [
      "Correo enviado con éxito a angel.prados@estudiante.uam.es\n"
     ]
    },
    {
     "name": "stderr",
     "output_type": "stream",
     "text": [
      "Enviando correos:  95%|█████████▍| 36/38 [00:58<00:03,  1.64s/correo]"
     ]
    },
    {
     "name": "stdout",
     "output_type": "stream",
     "text": [
      "Correo enviado con éxito a juan.gonzalob@estudiante.uam.es\n"
     ]
    },
    {
     "name": "stderr",
     "output_type": "stream",
     "text": [
      "Enviando correos:  97%|█████████▋| 37/38 [01:00<00:01,  1.62s/correo]"
     ]
    },
    {
     "name": "stdout",
     "output_type": "stream",
     "text": [
      "Correo enviado con éxito a marta-luciana.rosca@estudiante.uam.es\n"
     ]
    },
    {
     "name": "stderr",
     "output_type": "stream",
     "text": [
      "Enviando correos: 100%|██████████| 38/38 [01:01<00:00,  1.63s/correo]"
     ]
    },
    {
     "name": "stdout",
     "output_type": "stream",
     "text": [
      "Correo enviado con éxito a marco.pinnacarta@estudiante.uam.es\n",
      "Proceso finalizado. Se enviaron 38 correos con éxito.\n"
     ]
    },
    {
     "name": "stderr",
     "output_type": "stream",
     "text": [
      "\n"
     ]
    }
   ],
   "source": [
    "# Enviar los correos con los informes adjuntos usando la nueva función enviar_informes_por_correo\n",
    "\n",
    "enviar_informes_por_correo(df_resultado, NOMBRE_SESION)"
   ]
  }
 ],
 "metadata": {
  "kernelspec": {
   "display_name": "Python 3",
   "language": "python",
   "name": "python3"
  },
  "language_info": {
   "codemirror_mode": {
    "name": "ipython",
    "version": 3
   },
   "file_extension": ".py",
   "mimetype": "text/x-python",
   "name": "python",
   "nbconvert_exporter": "python",
   "pygments_lexer": "ipython3",
   "version": "3.11.6"
  }
 },
 "nbformat": 4,
 "nbformat_minor": 2
}
