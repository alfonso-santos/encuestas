{
 "cells": [
  {
   "cell_type": "markdown",
   "metadata": {},
   "source": [
    "# EVALUAR Y GENERAR REPORTS PARA LOS ALUMNOS"
   ]
  },
  {
   "cell_type": "markdown",
   "metadata": {},
   "source": [
    "### CONSIDERACIONES PARA QUE FUNCIONE:\n",
    "\n",
    "- HAY QUE INSTALAR LIBREOFFICE EN EL TERMINAL\n",
    "\n",
    "        -  sudo apt update\n",
    "\n",
    "        - sudo apt install libreoffice\n",
    "\n",
    "- EL TEMPLATE DEL REPORT PARA EL PONENTE TIENE QUE ESTAR EN:\n",
    "\n",
    "        - TEMPLATE_PATH = '/workspace/template/Evaluacion_Sesion_template.docx'\n",
    "\n",
    "- FICHERO RESPUESTAS:\n",
    "\n",
    "\n",
    "        - Eliminar las primeras 7 columnas del DataFrame, asumiendo que no son necesarias para el análisis.\n",
    "\n",
    "        - Tiene que tener 8 preguntas numéricas de 0 a 5 y 4 con texto libre\n",
    "\n",
    "        - Las preguntas 11 y 12 son las que hay que usar pare evaluar\n"
   ]
  },
  {
   "cell_type": "code",
   "execution_count": 24,
   "metadata": {},
   "outputs": [
    {
     "name": "stdout",
     "output_type": "stream",
     "text": [
      "Defaulting to user installation because normal site-packages is not writeable\n",
      "Requirement already satisfied: docxtpl in /home/vscode/.local/lib/python3.11/site-packages (0.18.0)\n",
      "Requirement already satisfied: python-docx>=1.1.1 in /home/vscode/.local/lib/python3.11/site-packages (from docxtpl) (1.1.2)\n",
      "Requirement already satisfied: docxcompose in /home/vscode/.local/lib/python3.11/site-packages (from docxtpl) (1.4.0)\n",
      "Requirement already satisfied: jinja2 in /usr/local/lib/python3.11/site-packages (from docxtpl) (3.1.4)\n",
      "Requirement already satisfied: lxml in /usr/local/lib/python3.11/site-packages (from docxtpl) (5.2.2)\n",
      "Requirement already satisfied: typing-extensions>=4.9.0 in /usr/local/lib/python3.11/site-packages (from python-docx>=1.1.1->docxtpl) (4.12.1)\n",
      "Requirement already satisfied: setuptools in /usr/local/lib/python3.11/site-packages (from docxcompose->docxtpl) (68.2.2)\n",
      "Requirement already satisfied: six in /usr/local/lib/python3.11/site-packages (from docxcompose->docxtpl) (1.16.0)\n",
      "Requirement already satisfied: babel in /usr/local/lib/python3.11/site-packages (from docxcompose->docxtpl) (2.15.0)\n",
      "Requirement already satisfied: MarkupSafe>=2.0 in /usr/local/lib/python3.11/site-packages (from jinja2->docxtpl) (2.1.5)\n",
      "\n",
      "\u001b[1m[\u001b[0m\u001b[34;49mnotice\u001b[0m\u001b[1;39;49m]\u001b[0m\u001b[39;49m A new release of pip is available: \u001b[0m\u001b[31;49m24.0\u001b[0m\u001b[39;49m -> \u001b[0m\u001b[32;49m24.2\u001b[0m\n",
      "\u001b[1m[\u001b[0m\u001b[34;49mnotice\u001b[0m\u001b[1;39;49m]\u001b[0m\u001b[39;49m To update, run: \u001b[0m\u001b[32;49mpip install --upgrade pip\u001b[0m\n",
      "Note: you may need to restart the kernel to use updated packages.\n"
     ]
    }
   ],
   "source": [
    "%pip install docxtpl"
   ]
  },
  {
   "cell_type": "code",
   "execution_count": 25,
   "metadata": {},
   "outputs": [
    {
     "name": "stdout",
     "output_type": "stream",
     "text": [
      "Defaulting to user installation because normal site-packages is not writeable\n",
      "Requirement already satisfied: fpdf2 in /home/vscode/.local/lib/python3.11/site-packages (2.7.9)\n",
      "Requirement already satisfied: defusedxml in /usr/local/lib/python3.11/site-packages (from fpdf2) (0.7.1)\n",
      "Requirement already satisfied: Pillow!=9.2.*,>=6.2.2 in /usr/local/lib/python3.11/site-packages (from fpdf2) (10.3.0)\n",
      "Requirement already satisfied: fonttools>=4.34.0 in /usr/local/lib/python3.11/site-packages (from fpdf2) (4.53.0)\n",
      "\n",
      "\u001b[1m[\u001b[0m\u001b[34;49mnotice\u001b[0m\u001b[1;39;49m]\u001b[0m\u001b[39;49m A new release of pip is available: \u001b[0m\u001b[31;49m24.0\u001b[0m\u001b[39;49m -> \u001b[0m\u001b[32;49m24.2\u001b[0m\n",
      "\u001b[1m[\u001b[0m\u001b[34;49mnotice\u001b[0m\u001b[1;39;49m]\u001b[0m\u001b[39;49m To update, run: \u001b[0m\u001b[32;49mpip install --upgrade pip\u001b[0m\n",
      "Note: you may need to restart the kernel to use updated packages.\n"
     ]
    }
   ],
   "source": [
    "%pip install fpdf2"
   ]
  },
  {
   "cell_type": "code",
   "execution_count": 26,
   "metadata": {},
   "outputs": [],
   "source": [
    "import pandas as pd\n",
    "from datetime import datetime\n",
    "from docxtpl import DocxTemplate\n",
    "from docx.enum.text import WD_PARAGRAPH_ALIGNMENT\n",
    "import os\n",
    "import subprocess\n",
    "from email.mime.multipart import MIMEMultipart\n",
    "from email.mime.text import MIMEText\n",
    "from email.mime.application import MIMEApplication\n",
    "import smtplib\n",
    "import concurrent.futures\n",
    "import os\n",
    "from dotenv import load_dotenv\n",
    "from tqdm import tqdm\n",
    "from openai import OpenAI\n",
    "from datetime import datetime, timedelta\n",
    "from fpdf import FPDF\n",
    "from fpdf.enums import XPos, YPos\n"
   ]
  },
  {
   "cell_type": "markdown",
   "metadata": {},
   "source": [
    "## DEFINICIÓN DE LAS FUNCIONES"
   ]
  },
  {
   "cell_type": "code",
   "execution_count": 27,
   "metadata": {},
   "outputs": [],
   "source": [
    "def leer_criterios(CRITERIOS_PATH):\n",
    "    \"\"\"\n",
    "    Lee el archivo de criterios y separa los criterios para Q11_Específica 1 y Q12_Específica 2.\n",
    "    \n",
    "    Parámetros:\n",
    "    - CRITERIOS_PATH: Ruta del archivo de texto que contiene los criterios.\n",
    "\n",
    "    Retorna:\n",
    "    - Una tupla con dos listas: la primera contiene los criterios de Q11 y la segunda los de Q12.\n",
    "\n",
    "    Manejo de errores:\n",
    "    - Verifica si el archivo existe y puede ser leído.\n",
    "    - Verifica que el archivo contenga las secciones esperadas para Q11 y Q12.\n",
    "    \"\"\"\n",
    "\n",
    "    criterios_q11 = []\n",
    "    criterios_q12 = []\n",
    "    leyendo_q11 = False\n",
    "    leyendo_q12 = False\n",
    "\n",
    "    try:\n",
    "        # Intentar abrir el archivo\n",
    "        with open(CRITERIOS_PATH, 'r') as file:\n",
    "            contenido = file.read()\n",
    "\n",
    "        # Procesar el contenido línea por línea\n",
    "        for linea in contenido.splitlines():\n",
    "            if \"Criterios para Q11_Especifica1:\" in linea:\n",
    "                leyendo_q11 = True\n",
    "                leyendo_q12 = False\n",
    "            elif \"Criterios para Q12_Especifica2:\" in linea:\n",
    "                leyendo_q11 = False\n",
    "                leyendo_q12 = True\n",
    "            elif leyendo_q11 and linea.strip():\n",
    "                criterios_q11.append(linea.strip())\n",
    "            elif leyendo_q12 and linea.strip():\n",
    "                criterios_q12.append(linea.strip())\n",
    "        \n",
    "        # Verificar si se encontraron criterios en ambas secciones\n",
    "        if not criterios_q11:\n",
    "            raise ValueError(\"No se encontraron criterios para Q11_Específica 1 en el archivo.\")\n",
    "        if not criterios_q12:\n",
    "            raise ValueError(\"No se encontraron criterios para Q12_Específica 2 en el archivo.\")\n",
    "\n",
    "        # Imprimir mensaje de éxito con el número de criterios leídos para Q11 y Q12\n",
    "        print(f\"Se leyeron {len(criterios_q11)} criterios para Q11 y {len(criterios_q12)} criterios para Q12 del archivo '{CRITERIOS_PATH}'.\")\n",
    "\n",
    "    except FileNotFoundError:\n",
    "        print(f\"Error: El archivo '{CRITERIOS_PATH}' no se encontró. Verifica la ruta.\")\n",
    "    except IOError:\n",
    "        print(f\"Error: No se pudo leer el archivo '{CRITERIOS_PATH}'. Verifica los permisos.\")\n",
    "    except ValueError as e:\n",
    "        print(f\"Error: {e}\")\n",
    "\n",
    "    return criterios_q11, criterios_q12\n"
   ]
  },
  {
   "cell_type": "code",
   "execution_count": 28,
   "metadata": {},
   "outputs": [],
   "source": [
    "def leer_encuestas(file_path_csv):\n",
    "    \"\"\"\n",
    "    Carga un archivo CSV en un DataFrame, verifica si está vacío y selecciona\n",
    "    columnas específicas para su posterior análisis.\n",
    "\n",
    "    Parámetros:\n",
    "    - file_path_csv: Ruta al archivo CSV que contiene los datos de evaluación.\n",
    "\n",
    "    Retorna:\n",
    "    - df: DataFrame con las columnas seleccionadas ('Nombre completo', 'Nombre de usuario', 'Q11_Específica 1', 'Q12_Específica 2').\n",
    "\n",
    "    Excepciones:\n",
    "    - ValueError: Si el archivo CSV está vacío o no contiene datos válidos.\n",
    "    \"\"\"\n",
    "    \n",
    "    # Verificar si el archivo CSV existe\n",
    "    if not os.path.exists(file_path_csv):\n",
    "        raise FileNotFoundError(f\"El archivo CSV {file_path_csv} no existe.\")\n",
    "    \n",
    "    # Leer los datos del archivo CSV en un DataFrame\n",
    "    try:\n",
    "        df = pd.read_csv(file_path_csv)\n",
    "    except Exception as e:\n",
    "        print(f\"Error al leer el archivo CSV: {e}\")\n",
    "        return None\n",
    "\n",
    "    # Verificar si el DataFrame está vacío\n",
    "    if df.empty:\n",
    "        raise ValueError(\"El archivo CSV está vacío o no contiene datos válidos.\")\n",
    "\n",
    "    # Definir la lista de columnas que queremos seleccionar\n",
    "    columnas_seleccionadas = ['Nombre completo', 'Nombre de usuario', 'Q11_Específica 1', 'Q12_Específica 2']\n",
    "\n",
    "    # Verificar si las columnas están presentes\n",
    "    columnas_disponibles = all(col in df.columns for col in columnas_seleccionadas)\n",
    "    if not columnas_disponibles:\n",
    "        raise ValueError(f\"El archivo CSV no contiene las columnas necesarias: {columnas_seleccionadas}\")\n",
    "\n",
    "    # Seleccionar las columnas específicas del DataFrame\n",
    "    df = df[columnas_seleccionadas]\n",
    "\n",
    "    # Verificar filas procesadas correctamente\n",
    "    filas_procesadas = df.shape[0]\n",
    "    \n",
    "    # Imprimir mensaje de éxito con el número de filas leídas\n",
    "    print(f\"Se han leído con éxito {filas_procesadas} registros del archivo CSV.\")\n",
    "\n",
    "    # Retornar el DataFrame filtrado\n",
    "    return df\n"
   ]
  },
  {
   "cell_type": "code",
   "execution_count": 29,
   "metadata": {},
   "outputs": [],
   "source": [
    "def evaluar_respuesta_gpt(respuesta, criterios, pregunta_1, pregunta_2):\n",
    "    \"\"\"\n",
    "    Utiliza la API de OpenAI para evaluar la respuesta del estudiante basándose en los criterios.\n",
    "    \n",
    "    Parámetros:\n",
    "    - respuesta: Respuesta del estudiante.\n",
    "    - criterios: Criterios correspondientes para evaluar la respuesta.\n",
    "    - pregunta_1: La primera pregunta para verificar si la respuesta es solo una reformulación.\n",
    "    - pregunta_2: La segunda pregunta para verificar si la respuesta es solo una reformulación.\n",
    "\n",
    "    Retorna una nota y una explicación de la evaluación.\n",
    "    \"\"\"\n",
    "\n",
    "    # Crear el prompt con la respuesta, las preguntas y los criterios, especificando un formato estructurado\n",
    "    prompt = f\"\"\"\n",
    "    Evalúa la siguiente respuesta en función de estos criterios:\n",
    "\n",
    "    Criterios:\n",
    "    {criterios}\n",
    "\n",
    "    Respuesta del estudiante:\n",
    "    {respuesta}\n",
    "\n",
    "    Preguntas:\n",
    "    - {pregunta_1}\n",
    "    - {pregunta_2}\n",
    "\n",
    "    Importante: Si la respuesta es solo una repetición o reformulación de cualquiera de las preguntas, la nota debe ser 0.\n",
    "\n",
    "    Proporciona la evaluación en el siguiente formato EXACTO:\n",
    "    Nota: <valor numérico entre 1 y 10 con un decimal, o 0 si la respuesta es una reformulación de la pregunta>\n",
    "    Comentario: <explicación detallada de la evaluación>\n",
    "    \"\"\"\n",
    "\n",
    "    try:\n",
    "        # Inicializar cliente OpenAI\n",
    "        cliente = OpenAI()\n",
    "\n",
    "        # Crear la solicitud de completado del chat\n",
    "        response = cliente.chat.completions.create(\n",
    "            model=\"gpt-4o-mini\",\n",
    "            messages=[\n",
    "                {\"role\": \"system\", \"content\": \"Eres un evaluador que analiza respuestas breves de estudiantes basadas en criterios específicos.\"},\n",
    "                {\"role\": \"user\", \"content\": prompt}\n",
    "            ]\n",
    "        )\n",
    "\n",
    "        # Obtener la respuesta generada por el modelo\n",
    "        evaluacion = response.choices[0].message.content\n",
    "\n",
    "        # Procesar la evaluación para extraer la nota y el comentario\n",
    "        try:\n",
    "            # Dividir la evaluación en líneas y buscar la nota y el comentario\n",
    "            lines = evaluacion.split(\"\\n\")\n",
    "\n",
    "            # Buscar la línea que contiene la nota y procesarla\n",
    "            nota_line = next(line for line in lines if line.startswith(\"Nota:\"))\n",
    "            nota = nota_line.split(\":\")[1].strip()  # Extraer la nota después de 'Nota:'\n",
    "\n",
    "            # Buscar la línea que contiene el comentario\n",
    "            comentario_line = next(line for line in lines if line.startswith(\"Comentario:\"))\n",
    "            comentario = comentario_line.split(\":\", 1)[1].strip()  # Extraer el comentario después de 'Comentario:'\n",
    "\n",
    "        except Exception as e:\n",
    "            print(f\"Error al procesar la evaluación: {e}\")\n",
    "            return None, \"Error al procesar la evaluación.\"\n",
    "\n",
    "        return nota, comentario\n",
    "\n",
    "    except Exception as e:\n",
    "        print(f\"Error al evaluar la respuesta: {e}\")\n",
    "        return None, \"Error en la evaluación.\"\n",
    "\n"
   ]
  },
  {
   "cell_type": "code",
   "execution_count": 30,
   "metadata": {},
   "outputs": [],
   "source": [
    "\n",
    "def procesar_respuesta(index, row, criterios_q11, criterios_q12):\n",
    "    \"\"\"\n",
    "    Procesa las respuestas de una fila del DataFrame.\n",
    "    Evalúa las respuestas de Q11 y Q12 y retorna los resultados.\n",
    "    \"\"\"\n",
    "    # Obtener las respuestas para Q11 y Q12 de las columnas correspondientes\n",
    "    respuesta_q11 = row['Q11_Específica 1']\n",
    "    respuesta_q12 = row['Q12_Específica 2']\n",
    "\n",
    "    # Evaluar la respuesta a Q11\n",
    "    nota_q11, comentario_q11 = evaluar_respuesta_gpt(respuesta_q11, \"\\n\".join(criterios_q11), PREGUNTA_1, PREGUNTA_2)\n",
    "    \n",
    "    # Evaluar la respuesta a Q12\n",
    "    nota_q12, comentario_q12 = evaluar_respuesta_gpt(respuesta_q12, \"\\n\".join(criterios_q12), PREGUNTA_1, PREGUNTA_2)\n",
    "\n",
    "    return index, nota_q11, comentario_q11, nota_q12, comentario_q12"
   ]
  },
  {
   "cell_type": "code",
   "execution_count": 31,
   "metadata": {},
   "outputs": [],
   "source": [
    "def evaluar_respuestas_df_paralelo(df, criterios_q11, criterios_q12):\n",
    "    \"\"\"\n",
    "    Recorre el DataFrame df en paralelo, evalúa las respuestas de Q11 y Q12 \n",
    "    usando la función evaluar_respuesta_gpt, y crea nuevas columnas para almacenar \n",
    "    las notas y los comentarios para cada respuesta.\n",
    "    \"\"\"\n",
    "    \n",
    "    # Inicializar las nuevas columnas en el DataFrame\n",
    "    df['Nota Q11'] = None\n",
    "    df['Comentario Q11'] = None\n",
    "    df['Nota Q12'] = None\n",
    "    df['Comentario Q12'] = None\n",
    "\n",
    "    filas_procesadas = 0  # Contador de filas procesadas correctamente\n",
    "\n",
    "    # Usar ThreadPoolExecutor para ejecutar en paralelo\n",
    "    with concurrent.futures.ThreadPoolExecutor() as executor:\n",
    "        # Enviar todas las filas al pool de threads para procesamiento\n",
    "        futuros = {\n",
    "            executor.submit(procesar_respuesta, index, row, criterios_q11, criterios_q12): index\n",
    "            for index, row in df.iterrows()\n",
    "        }\n",
    "\n",
    "        # Recoger los resultados conforme se completan\n",
    "        for future in concurrent.futures.as_completed(futuros):\n",
    "            try:\n",
    "                index, nota_q11, comentario_q11, nota_q12, comentario_q12 = future.result()\n",
    "\n",
    "                # Guardar los resultados en las nuevas columnas del DataFrame\n",
    "                df.at[index, 'Nota Q11'] = nota_q11\n",
    "                df.at[index, 'Comentario Q11'] = comentario_q11\n",
    "                df.at[index, 'Nota Q12'] = nota_q12\n",
    "                df.at[index, 'Comentario Q12'] = comentario_q12\n",
    "\n",
    "                filas_procesadas += 1  # Incrementar el contador de filas procesadas correctamente\n",
    "            except Exception as e:\n",
    "                print(f\"Error al procesar la fila {index}: {e}\")\n",
    "\n",
    "    # Convertir las columnas Nota Q11 y Nota Q12 a float de forma segura\n",
    "    df['Nota Q11'] = pd.to_numeric(df['Nota Q11'], errors='coerce')\n",
    "    df['Nota Q12'] = pd.to_numeric(df['Nota Q12'], errors='coerce')\n",
    "\n",
    "    # Calcular la nota final como la media de Nota Q11 y Nota Q12\n",
    "    df['Nota Final'] = (df['Nota Q11'] + df['Nota Q12']) / 2\n",
    "\n",
    "    # Imprimir mensaje de éxito con el número de filas procesadas correctamente\n",
    "    print(f\"Proceso de evaluación finalizado con éxito. Se evaluaron correctamente {filas_procesadas} de {df.shape[0]} respuestas.\")\n",
    "\n",
    "    return df\n"
   ]
  },
  {
   "cell_type": "code",
   "execution_count": 32,
   "metadata": {},
   "outputs": [],
   "source": [
    "def generar_excel_y_pdf(df_resultado, nombre_sesion):\n",
    "    \"\"\"\n",
    "    Genera un archivo Excel y un archivo PDF con las notas de los alumnos, y los guarda en el directorio de la sesión.\n",
    "    El PDF no incluye la columna de emails.\n",
    "    \"\"\"\n",
    "    # Ruta de salida\n",
    "    output_dir = f\"/workspace/reports/{nombre_sesion}\"\n",
    "    if not os.path.exists(output_dir):\n",
    "        os.makedirs(output_dir)\n",
    "\n",
    "    # Generar archivo Excel\n",
    "    excel_path = os.path.join(output_dir, f\"notas_{nombre_sesion}.xlsx\")\n",
    "    df_resultado[['Nombre completo', 'Nombre de usuario', 'Nota Q11', 'Nota Q12', 'Nota Final']].to_excel(excel_path, index=False)\n",
    "\n",
    "    # Generar archivo PDF\n",
    "    pdf = FPDF()\n",
    "    pdf.add_page()\n",
    "\n",
    "    # Configurar fuente y título del PDF\n",
    "    pdf.set_font(\"Helvetica\", 'B', 16)\n",
    "    pdf.cell(200, 10, f\"Notas de la sesión: {nombre_sesion}\", new_x=XPos.LMARGIN, new_y=YPos.NEXT, align='C')\n",
    "\n",
    "    # Espaciado\n",
    "    pdf.ln(10)\n",
    "\n",
    "    # Títulos de las columnas (sin email)\n",
    "    pdf.set_font(\"Helvetica\", 'B', 12)\n",
    "    pdf.cell(100, 10, \"Nombre del Alumno\", border=1)\n",
    "    pdf.cell(30, 10, \"Nota Q11\", border=1)\n",
    "    pdf.cell(30, 10, \"Nota Q12\", border=1)\n",
    "    pdf.cell(30, 10, \"Nota Final\", border=1)\n",
    "    pdf.ln()\n",
    "\n",
    "    # Datos de los alumnos (sin email)\n",
    "    pdf.set_font(\"Helvetica\", '', 12)\n",
    "    for index, row in df_resultado.iterrows():\n",
    "        pdf.cell(100, 10, row['Nombre completo'], border=1)\n",
    "        pdf.cell(30, 10, str(row['Nota Q11']), border=1)\n",
    "        pdf.cell(30, 10, str(row['Nota Q12']), border=1)\n",
    "        pdf.cell(30, 10, str(row['Nota Final']), border=1)\n",
    "        pdf.ln()\n",
    "\n",
    "    # Guardar el PDF\n",
    "    pdf_path = os.path.join(output_dir, f\"notas_{nombre_sesion}.pdf\")\n",
    "    pdf.output(pdf_path)\n",
    "\n",
    "    print(f\"Archivos generados: {excel_path}, {pdf_path}\")\n",
    "\n"
   ]
  },
  {
   "cell_type": "code",
   "execution_count": 33,
   "metadata": {},
   "outputs": [],
   "source": [
    "def generar_informes(df_resultado, nombre_sesion, criterios_q11, criterios_q12):\n",
    "    \"\"\"\n",
    "    Genera informes personalizados en formato Word para cada alumno en función de los resultados\n",
    "    del DataFrame, los convierte a PDF, añade una nueva columna con la ruta al archivo PDF generado\n",
    "    y agrega los criterios de evaluación formateados en el contexto.\n",
    "\n",
    "    Parámetros:\n",
    "    - df_resultado: DataFrame que contiene los resultados y comentarios de los alumnos.\n",
    "    - nombre_sesion: Nombre de la sesión o curso, utilizado para nombrar el directorio y los archivos.\n",
    "    - criterios_q11: Lista de criterios para la pregunta Q11.\n",
    "    - criterios_q12: Lista de criterios para la pregunta Q12.\n",
    "\n",
    "    Retorna:\n",
    "    - df_resultado: DataFrame actualizado con una nueva columna que contiene la ruta a los archivos PDF generados.\n",
    "    \"\"\"\n",
    "\n",
    "    # Crear el directorio de salida si no existe\n",
    "    output_dir = f'/workspace/reports/{nombre_sesion}/alumnos'\n",
    "    if not os.path.exists(output_dir):\n",
    "        os.makedirs(output_dir)  # Crear el directorio si no existe\n",
    "\n",
    "    informes_generados = 0  # Contador de informes generados\n",
    "\n",
    "    # Crear una columna vacía en el DataFrame para almacenar las rutas de los PDFs\n",
    "    df_resultado['Ruta PDF'] = None\n",
    "\n",
    "    # Formatear los criterios para que se vean claramente en el documento\n",
    "    criterios_q11_formateados = \"\\n\".join([f\"{linea}\" if linea.startswith('1.') or linea.startswith('2.') or linea.startswith('3.') else f\"    {linea}\" for linea in criterios_q11])\n",
    "    criterios_q12_formateados = \"\\n\".join([f\"{linea}\" if linea.startswith('1.') or linea.startswith('2.') or linea.startswith('3.') else f\"    {linea}\" for linea in criterios_q12])\n",
    "\n",
    "    # Iterar sobre cada fila del DataFrame para generar un informe por alumno usando tqdm para la barra de progreso\n",
    "    for index, row in tqdm(df_resultado.iterrows(), total=len(df_resultado), desc=\"Generando informes\", unit=\"informe\"):\n",
    "        try:\n",
    "            # Cargar la plantilla de Word donde se insertarán los datos del alumno\n",
    "            doc = DocxTemplate(TEMPLATE_PATH_ALUMNO)\n",
    "        except FileNotFoundError:\n",
    "            # Manejar el error si la plantilla no se encuentra\n",
    "            print(f\"Error: No se encontró la plantilla en la ruta especificada: {TEMPLATE_PATH_ALUMNO}\")\n",
    "            continue  # Saltar al siguiente alumno si no se encuentra la plantilla\n",
    "\n",
    "        # Preparar el contexto con la información del alumno que se insertará en el informe\n",
    "        context = {\n",
    "            'nombre_alumno': row['Nombre completo'],\n",
    "            'titulo_sesion': nombre_sesion,\n",
    "            'pregunta_1': PREGUNTA_1,\n",
    "            'respuesta_q11': row['Q11_Específica 1'],\n",
    "            'nota_q11': row['Nota Q11'],\n",
    "            'comentario_q11': row['Comentario Q11'],\n",
    "            'criterios_q11': criterios_q11_formateados,  # Incluir criterios formateados para Q11\n",
    "            'pregunta_2': PREGUNTA_2,\n",
    "            'respuesta_q12': row['Q12_Específica 2'],\n",
    "            'nota_q12': row['Nota Q12'],\n",
    "            'comentario_q12': row['Comentario Q12'],\n",
    "            'criterios_q12': criterios_q12_formateados,  # Incluir criterios formateados para Q12\n",
    "            'nota_final': row['Nota Final']\n",
    "        }\n",
    "\n",
    "        # Intentar renderizar el documento con el contexto preparado\n",
    "        try:\n",
    "            doc.render(context)\n",
    "        except Exception as e:\n",
    "            # Manejar el error si hay problemas al renderizar el informe\n",
    "            print(f\"Error al renderizar el informe para {row['Nombre completo']}: {e}\")\n",
    "            continue  # Saltar al siguiente alumno si falla la renderización\n",
    "\n",
    "        # Definir la ruta del archivo .docx de salida para el informe del alumno\n",
    "        output_file = os.path.join(output_dir, f'{row[\"Nombre completo\"].replace(\" \", \"_\")}_{nombre_sesion}.docx')\n",
    "\n",
    "        # Guardar el informe generado en formato Word\n",
    "        try:\n",
    "            doc.save(output_file)\n",
    "        except OSError as e:\n",
    "            # Manejar el error si no se puede guardar el archivo\n",
    "            print(f\"Error al guardar el informe para {row['Nombre completo']}: {e}\")\n",
    "            continue  # Saltar al siguiente alumno si falla al guardar\n",
    "\n",
    "        # Convertir el archivo Word a PDF usando LibreOffice\n",
    "        try:\n",
    "            convert_to_pdf_with_libreoffice(output_file, output_dir)\n",
    "            pdf_file = output_file.replace('.docx', '.pdf')  # Generar la ruta del archivo PDF\n",
    "\n",
    "            # Añadir la ruta del PDF generado en la columna correspondiente del DataFrame\n",
    "            df_resultado.at[index, 'Ruta PDF'] = pdf_file\n",
    "            informes_generados += 1  # Incrementar el contador de informes generados\n",
    "        except Exception as e:\n",
    "            # Manejar el error si falla la conversión a PDF\n",
    "            print(f\"Error al convertir {output_file} a PDF: {e}\")\n",
    "\n",
    "    # Imprimir un mensaje al finalizar el proceso\n",
    "    print(f\"Proceso finalizado. Se generaron {informes_generados} informes.\")\n",
    "    \n",
    "    # Retornar el DataFrame actualizado con las rutas a los archivos PDF generados\n",
    "    return df_resultado\n"
   ]
  },
  {
   "cell_type": "code",
   "execution_count": 34,
   "metadata": {},
   "outputs": [],
   "source": [
    "def convert_to_pdf_with_libreoffice(docx_path, output_dir):\n",
    "    \"\"\"Convierte un archivo .docx a PDF usando LibreOffice en modo de línea de comandos, solo muestra errores\"\"\"\n",
    "    try:\n",
    "        # Ejecutar el comando libreoffice para convertir el archivo a PDF sin mostrar los mensajes de éxito\n",
    "        subprocess.run(\n",
    "            ['libreoffice', '--headless', '--convert-to', 'pdf', docx_path, '--outdir', output_dir],\n",
    "            check=True,\n",
    "            stdout=subprocess.DEVNULL,  # Silenciar la salida estándar\n",
    "            stderr=subprocess.PIPE  # Capturar errores estándar\n",
    "        )\n",
    "    except subprocess.CalledProcessError as e:\n",
    "        print(f\"Error al convertir el archivo .docx a PDF: {docx_path}\\nDetalle del error: {e.stderr.decode()}\")\n",
    "\n"
   ]
  },
  {
   "cell_type": "code",
   "execution_count": 35,
   "metadata": {},
   "outputs": [],
   "source": [
    "def convertir_todos_los_docx_a_pdf(dir_reports):\n",
    "    \"\"\"Lee todos los archivos .docx en un directorio y los convierte a PDF secuencialmente, mostrando barra de progreso\"\"\"\n",
    "    # Obtener todos los archivos .docx en el directorio\n",
    "    docx_files = [os.path.join(dir_reports, file_name) for file_name in os.listdir(dir_reports) if file_name.endswith('.docx')]\n",
    "    \n",
    "    total_files = len(docx_files)  # Total de archivos .docx\n",
    "    pdf_generated = 0  # Contador de PDFs generados correctamente\n",
    "\n",
    "    # Mostrar barra de progreso usando tqdm\n",
    "    for docx_path in tqdm(docx_files, desc=\"Convirtiendo archivos .docx a PDF\"):\n",
    "        try:\n",
    "            convert_to_pdf_with_libreoffice(docx_path, dir_reports)\n",
    "            pdf_generated += 1  # Incrementar el contador si se genera un PDF\n",
    "        except Exception as e:\n",
    "            print(f\"Error durante la conversión de {docx_path}: {e}\")\n",
    "\n",
    "    # Imprimir un mensaje al finalizar con el número de archivos procesados\n",
    "    print(f\"La conversión de todos los archivos ha finalizado. Archivos .docx: {total_files}, Archivos PDF generados: {pdf_generated}\")"
   ]
  },
  {
   "cell_type": "code",
   "execution_count": 47,
   "metadata": {},
   "outputs": [],
   "source": [
    "def enviar_correo_con_adjunto(emails, nombre_sesion, pdf_path, nombre_alumno):\n",
    "    \"\"\"Envía un correo electrónico con el archivo PDF adjunto\"\"\"\n",
    "\n",
    "    # Configurar el servidor SMTP (por ejemplo, Gmail)\n",
    "    smtp_server = 'smtp.gmail.com'\n",
    "    smtp_port = 587\n",
    "    smtp_user = os.getenv('SMTP_USER')  # Cargar desde .env\n",
    "    smtp_password = os.getenv('SMTP_PASSWORD')  # Cargar desde .env\n",
    "\n",
    "    # Calcular la fecha dos días a partir de hoy\n",
    "    fecha_hoy_mas_dos = (datetime.today() + timedelta(days=2)).strftime('%Y-%m-%d')\n",
    "\n",
    "    # Crear el mensaje\n",
    "    asunto = f\"Evaluation Report - Session {nombre_sesion}\"\n",
    "    mensaje = f\"\"\"Dear {nombre_alumno},\n",
    "\n",
    "Attached you will find the report corresponding to the evaluation of the survey for the session \"{nombre_sesion}\". In the report, you will find the grade received, the criteria used for evaluation, as well as detailed comments on your responses.\n",
    "\n",
    "If you believe the assigned grade does not accurately reflect your performance according to the provided criteria, you have the option to request a review. To do so, please send me an email to alfonso.santos@uam.es with the subject \"Request for Evaluation Review - Session {nombre_sesion}\" before 11:59 PM on {fecha_hoy_mas_dos}. In the email, you must clearly explain why the assigned grade is incorrect based on the evaluation criteria.\n",
    "\n",
    "Please note that the review request must be based on a disagreement with the evaluation according to the provided criteria. The evaluation criteria cannot be changed, but the assigned grade is subject to review. Additionally, be aware that the review may result in either an improvement or a reduction in the grade.\n",
    "\n",
    "I remain at your disposal for any further clarifications.\n",
    "\n",
    "Sincerely,\n",
    "Alfonso Santos\n",
    "    \"\"\"\n",
    "\n",
    "    # Crear el objeto MIME para el mensaje\n",
    "    msg = MIMEMultipart()\n",
    "    msg['From'] = smtp_user\n",
    "    msg['To'] = ', '.join(emails) if isinstance(emails, list) else emails\n",
    "    msg['Subject'] = asunto\n",
    "\n",
    "    # Adjuntar el texto del mensaje\n",
    "    msg.attach(MIMEText(mensaje, 'plain'))\n",
    "\n",
    "    # Adjuntar el archivo PDF\n",
    "    try:\n",
    "        with open(pdf_path, 'rb') as f:\n",
    "            part = MIMEApplication(f.read(), _subtype='pdf')\n",
    "            part.add_header('Content-Disposition', 'attachment', filename=os.path.basename(pdf_path))\n",
    "            msg.attach(part)\n",
    "    except FileNotFoundError:\n",
    "        print(f\"Error: No se encontró el archivo PDF en la ruta: {pdf_path}\")\n",
    "        return\n",
    "\n",
    "    # Enviar el correo\n",
    "    try:\n",
    "        with smtplib.SMTP(smtp_server, smtp_port) as server:\n",
    "            server.starttls()  # Seguridad TLS\n",
    "            server.login(smtp_user, smtp_password)\n",
    "            server.sendmail(smtp_user, emails if isinstance(emails, list) else [emails], msg.as_string())\n",
    "            print(f\"Correo enviado con éxito a {emails}\")\n",
    "    except Exception as e:\n",
    "        print(f\"Error al enviar el correo: {e}\")"
   ]
  },
  {
   "cell_type": "code",
   "execution_count": 37,
   "metadata": {},
   "outputs": [],
   "source": [
    "def enviar_informes_por_correo(df_resultado, nombre_sesion):\n",
    "    \"\"\"\n",
    "    Envía un correo electrónico a cada alumno con su archivo PDF adjunto.\n",
    "    \"\"\"\n",
    "    emails_enviados = 0  # Contador para los correos enviados con éxito\n",
    "\n",
    "    # Iterar sobre cada fila del DataFrame usando tqdm para la barra de progreso\n",
    "    for index, row in tqdm(df_resultado.iterrows(), total=len(df_resultado), desc=\"Enviando correos\", unit=\"correo\"):\n",
    "        try:\n",
    "            nombre_alumno = row['Nombre completo']\n",
    "            email_alumno = row['Nombre de usuario']  # Aquí obtenemos el correo de la columna 'Nombre de usuario'\n",
    "\n",
    "            # Verificar que el PDF correspondiente existe\n",
    "            pdf_path = row['Ruta PDF']\n",
    "            if pdf_path:\n",
    "                # Enviar el correo con el archivo PDF adjunto\n",
    "                enviar_correo_con_adjunto(email_alumno, nombre_sesion, pdf_path, nombre_alumno)\n",
    "                emails_enviados += 1  # Incrementar el contador de correos enviados con éxito\n",
    "            else:\n",
    "                print(f\"Error: No se encontró el PDF para {nombre_alumno}. No se enviará un correo.\")\n",
    "        \n",
    "        except Exception as e:\n",
    "            # Imprimir el error exacto que ocurre dentro del bloque try\n",
    "            print(f\"Error al enviar el correo a {email_alumno} para {nombre_alumno}: {e}\")\n",
    "\n",
    "    # Imprimir el número de correos enviados con éxito al finalizar\n",
    "    print(f\"Proceso finalizado. Se enviaron {emails_enviados} correos con éxito.\") \n"
   ]
  },
  {
   "cell_type": "markdown",
   "metadata": {},
   "source": [
    "## CÓDIGO EJECUCIÓN"
   ]
  },
  {
   "cell_type": "markdown",
   "metadata": {},
   "source": [
    "ASIGNACIÓN DE VALORES PARA EJECUCIÓN. **MODIFICAR PARA CADA ENCUESTA**"
   ]
  },
  {
   "cell_type": "code",
   "execution_count": 38,
   "metadata": {},
   "outputs": [],
   "source": [
    "# Constante para la ruta de la plantilla\n",
    "TEMPLATE_PATH_ALUMNO = '/workspace/template/Evaluacion_Alumno_Template.docx'\n",
    "\n",
    "# Ruta al archivo de criterios\n",
    "CRITERIOS_PATH = '/workspace/src/criterios.txt'\n",
    "\n",
    "# Ruta a los archivos de reports\n",
    "DIR_REPORTS = '/workspace/reports'\n",
    "\n",
    "# Datos de la sesión\n",
    "NOMBRE_SESION = 'IA Aplicada a las Finanzas'\n",
    "PREGUNTA_1 = '¿Cuáles son las cuatro áreas de conocimiento de la IA?'\n",
    "PREGUNTA_2 = '¿Qué es un algoritmo de mejor ejecución?'\n",
    "\n",
    "# Ficherocon las respuestas de los alumnos\n",
    "file_path_csv = \"/workspace/data/EVALUACI_N_SESI_N_GUILLERMO_2311.csv\"\n"
   ]
  },
  {
   "cell_type": "markdown",
   "metadata": {},
   "source": [
    "CARGO LAS CLAVES"
   ]
  },
  {
   "cell_type": "code",
   "execution_count": 39,
   "metadata": {},
   "outputs": [
    {
     "name": "stdout",
     "output_type": "stream",
     "text": [
      "API key cargada correctamente.\n"
     ]
    }
   ],
   "source": [
    "# Cargar las variables de entorno desde el archivo .env\n",
    "load_dotenv()\n",
    "\n",
    "# Obtener la clave de API\n",
    "openai_api_key = os.getenv(\"OPENAI_API_KEY\")\n",
    "\n",
    "# Verificar que se haya cargado correctamente\n",
    "if openai_api_key:\n",
    "    print(\"API key cargada correctamente.\")\n",
    "else:\n",
    "    print(\"Error: No se pudo cargar la API key.\")"
   ]
  },
  {
   "cell_type": "markdown",
   "metadata": {},
   "source": [
    "EVALÚA LAS ENCUESTAS, GENERA LOS REPORTS (Word y Pdf)"
   ]
  },
  {
   "cell_type": "code",
   "execution_count": 40,
   "metadata": {},
   "outputs": [
    {
     "name": "stdout",
     "output_type": "stream",
     "text": [
      "Se leyeron 12 criterios para Q11 y 20 criterios para Q12 del archivo '/workspace/src/criterios.txt'.\n",
      "Se han leído con éxito 31 registros del archivo CSV.\n"
     ]
    },
    {
     "name": "stdout",
     "output_type": "stream",
     "text": [
      "Proceso de evaluación finalizado con éxito. Se evaluaron correctamente 31 de 31 respuestas.\n",
      "Archivos generados: /workspace/reports/IA Aplicada a las Finanzas/notas_IA Aplicada a las Finanzas.xlsx, /workspace/reports/IA Aplicada a las Finanzas/notas_IA Aplicada a las Finanzas.pdf\n"
     ]
    },
    {
     "name": "stderr",
     "output_type": "stream",
     "text": [
      "Generando informes: 100%|██████████| 31/31 [00:24<00:00,  1.26informe/s]"
     ]
    },
    {
     "name": "stdout",
     "output_type": "stream",
     "text": [
      "Proceso finalizado. Se generaron 31 informes.\n"
     ]
    },
    {
     "name": "stderr",
     "output_type": "stream",
     "text": [
      "\n"
     ]
    }
   ],
   "source": [
    "# Leer los criterios de evaluación\n",
    "criterios_q11, criterios_q12 = leer_criterios(CRITERIOS_PATH)\n",
    "\n",
    "# Leer las respuestas de los alumnos\n",
    "df_encuestas = leer_encuestas(file_path_csv)\n",
    "\n",
    "# Evaluar las respuestas en paralelo\n",
    "df_resultado = evaluar_respuestas_df_paralelo(df_encuestas, criterios_q11, criterios_q12)\n",
    "\n",
    "# Genera el PDF con las notas para subir a moodle y el excell para tener un respaldo\n",
    "generar_excel_y_pdf(df_resultado, NOMBRE_SESION)\n",
    "\n",
    "# Generar informes personalizados en formato Word y añadir la ruta del PDF en una nueva columna del DataFrame\n",
    "df_resultado = generar_informes(df_resultado, NOMBRE_SESION, criterios_q11, criterios_q12)"
   ]
  },
  {
   "cell_type": "markdown",
   "metadata": {},
   "source": [
    "Chequeo si para algún alumno no se ha generado el informe"
   ]
  },
  {
   "cell_type": "code",
   "execution_count": 41,
   "metadata": {},
   "outputs": [
    {
     "name": "stdout",
     "output_type": "stream",
     "text": [
      "Todos los alumnos tienen informe generado.\n"
     ]
    }
   ],
   "source": [
    "# Verificar si hay algún alumno que no tiene PDF generado (columna 'Ruta PDF' vacía o nula)\n",
    "alumnos_sin_informe = df_resultado[df_resultado['Ruta PDF'].isnull()]\n",
    "\n",
    "# Si existen alumnos sin informe, se muestra la lista\n",
    "if not alumnos_sin_informe.empty:\n",
    "    print(\"Alumnos que no tienen informe generado:\")\n",
    "    print(alumnos_sin_informe[['Nombre completo']])\n",
    "else:\n",
    "    print(\"Todos los alumnos tienen informe generado.\")"
   ]
  },
  {
   "cell_type": "markdown",
   "metadata": {},
   "source": [
    "**POR SI QUIERES HACER PRUEBAS DE ENVIAR EMAILS**"
   ]
  },
  {
   "cell_type": "code",
   "execution_count": 46,
   "metadata": {},
   "outputs": [],
   "source": [
    "# df_resultado.loc[:, 'Nombre de usuario'] = 'alfonso.santos@uam.es'\n",
    "# df_resultado = df_resultado.iloc[:3, :]\n",
    "# df_resultado"
   ]
  },
  {
   "cell_type": "markdown",
   "metadata": {},
   "source": [
    " MANDA EMAILS CON LOS PDF  **OJO DESCOMENTAR LA LÍNEA DE CÓDIGO**"
   ]
  },
  {
   "cell_type": "code",
   "execution_count": 49,
   "metadata": {},
   "outputs": [
    {
     "name": "stderr",
     "output_type": "stream",
     "text": [
      "Enviando correos:  33%|███▎      | 1/3 [00:01<00:02,  1.37s/correo]"
     ]
    },
    {
     "name": "stdout",
     "output_type": "stream",
     "text": [
      "Correo enviado con éxito a alfonso.santos@uam.es\n"
     ]
    },
    {
     "name": "stderr",
     "output_type": "stream",
     "text": [
      "Enviando correos:  67%|██████▋   | 2/3 [00:02<00:01,  1.37s/correo]"
     ]
    },
    {
     "name": "stdout",
     "output_type": "stream",
     "text": [
      "Correo enviado con éxito a alfonso.santos@uam.es\n"
     ]
    },
    {
     "name": "stderr",
     "output_type": "stream",
     "text": [
      "Enviando correos: 100%|██████████| 3/3 [00:04<00:00,  1.36s/correo]"
     ]
    },
    {
     "name": "stdout",
     "output_type": "stream",
     "text": [
      "Correo enviado con éxito a alfonso.santos@uam.es\n",
      "Proceso finalizado. Se enviaron 3 correos con éxito.\n"
     ]
    },
    {
     "name": "stderr",
     "output_type": "stream",
     "text": [
      "\n"
     ]
    }
   ],
   "source": [
    "# Enviar los correos con los informes adjuntos usando la nueva función enviar_informes_por_correo\n",
    "\n",
    "#enviar_informes_por_correo(df_resultado, NOMBRE_SESION)"
   ]
  }
 ],
 "metadata": {
  "kernelspec": {
   "display_name": "Python 3",
   "language": "python",
   "name": "python3"
  },
  "language_info": {
   "codemirror_mode": {
    "name": "ipython",
    "version": 3
   },
   "file_extension": ".py",
   "mimetype": "text/x-python",
   "name": "python",
   "nbconvert_exporter": "python",
   "pygments_lexer": "ipython3",
   "version": "3.11.6"
  }
 },
 "nbformat": 4,
 "nbformat_minor": 2
}
